{
 "cells": [
  {
   "cell_type": "code",
   "execution_count": 2,
   "id": "editorial-contrary",
   "metadata": {},
   "outputs": [],
   "source": [
    "import daft\n"
   ]
  },
  {
   "cell_type": "code",
   "execution_count": 13,
   "id": "metallic-therapy",
   "metadata": {},
   "outputs": [
    {
     "data": {
      "text/plain": [
       "<matplotlib.axes._axes.Axes at 0x1ac1c63aa00>"
      ]
     },
     "execution_count": 13,
     "metadata": {},
     "output_type": "execute_result"
    },
    {
     "data": {
      "image/png": "[encoded data removed]",
      "text/plain": [
       "<Figure size 127.087x161.102 with 1 Axes>"
      ]
     },
     "metadata": {},
     "output_type": "display_data"
    }
   ],
   "source": [
    "\n",
    "# Instantiate the PGM.\n",
    "pgm = daft.PGM()\n",
    "\n",
    "# Hierarchical parameters.\n",
    "pgm.add_node(\"mu\", r\"$\\mu_\\alpha$\", 0.5, 2, fixed=True)\n",
    "pgm.add_node(\"sigmamu\", r\"$\\sigma^2_\\alpha$\", .5, 3, fixed=True)\n",
    "pgm.add_node(\"alpha\", r\"$\\alpha$\", 1.5, 2)\n",
    "\n",
    "# Latent variable.\n",
    "pgm.add_node(\"w\", r\"$w_n$\", 1, 1)\n",
    "\n",
    "# Data.\n",
    "pgm.add_node(\"x\", r\"$x_n$\", 2, 1, observed=True)\n",
    "\n",
    "# Add in the edges.\n",
    "pgm.add_edge(\"mu\", \"alpha\")\n",
    "pgm.add_edge(\"sigmamu\", \"alpha\")\n",
    "pgm.add_edge(\"alpha\", \"w\")\n",
    "pgm.add_edge(\"w\", \"x\")\n",
    "pgm.add_edge(\"alpha\", \"x\")\n",
    "\n",
    "# And a plate.\n",
    "pgm.add_plate([0.5, 0.5, 2, 1], label=r\"$n = 1, \\cdots, N$\", shift=-0.1)\n",
    "\n",
    "# Render and save\n",
    "pgm.render()\n"
   ]
  },
  {
   "cell_type": "code",
   "execution_count": null,
   "id": "received-catalyst",
   "metadata": {},
   "outputs": [],
   "source": []
  }
 ],
 "metadata": {
  "kernelspec": {
   "display_name": "Python 3",
   "language": "python",
   "name": "python3"
  },
  "language_info": {
   "codemirror_mode": {
    "name": "ipython",
    "version": 3
   },
   "file_extension": ".py",
   "mimetype": "text/x-python",
   "name": "python",
   "nbconvert_exporter": "python",
   "pygments_lexer": "ipython3",
   "version": "3.9.1"
  }
 },
 "nbformat": 4,
 "nbformat_minor": 5
}

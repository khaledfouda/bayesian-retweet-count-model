{
 "cells": [
  {
   "cell_type": "code",
   "execution_count": 5,
   "id": "numeric-oracle",
   "metadata": {},
   "outputs": [],
   "source": [
    "require(twitteR)\n",
    "require(rtweet)"
   ]
  },
  {
   "cell_type": "code",
   "execution_count": 9,
   "id": "identified-allocation",
   "metadata": {},
   "outputs": [
    {
     "name": "stdout",
     "output_type": "stream",
     "text": [
      "[1] \"Using direct authentication\"\n"
     ]
    }
   ],
   "source": [
    "consumer_key = \"wF8VVA46X85xwbtvTrXr0d5zn\"\n",
    "consumer_secret = \"Sv1RCJ6Z4A1jaN8Qooltw2n8kDYegT6Az1t3sYBL6hF1JBlS6y\"\n",
    "access_key = \"2938446196-LXbAA53aHbJ3XGRULk3VQ3RMs7QBghMLw2n1AfR\"\n",
    "access_secret = \"6dDRM84mubqoDePOi2s1Srapl9dgEcBjmb9fhLUptqdAs\"\n",
    "appname = \"wranglingForPythonTweepy\"\n",
    "setup_twitter_oauth(consumer_key,\n",
    "                    consumer_secret,\n",
    "                    access_key,\n",
    "                    access_secret)\n",
    "\n",
    "searchterm <- \"#arsenalfc\"\n",
    "\n",
    "\n",
    "twitter_token <- create_token(\n",
    "  app = appname,\n",
    "  consumer_key = consumer_key,\n",
    "  consumer_secret = consumer_secret,\n",
    "  access_token = access_key,\n",
    "  access_secret = access_secret)\n",
    "\n",
    "\n",
    "#tweets <- searchTwitter(searchterm,n=5000)\n",
    "rstats_tweets <- search_tweets(\"#rstats\", n = 50,\n",
    "                             include_rts = TRUE)"
   ]
  },
  {
   "cell_type": "code",
   "execution_count": 14,
   "id": "preceding-republic",
   "metadata": {},
   "outputs": [],
   "source": [
    "test <- get_favorites(user = 'blaireerskine')"
   ]
  },
  {
   "cell_type": "code",
   "execution_count": 18,
   "id": "monthly-spiritual",
   "metadata": {},
   "outputs": [
    {
     "data": {
      "text/html": [
       "<table class=\"dataframe\">\n",
       "<caption>A tibble: 4 × 90</caption>\n",
       "<thead>\n",
       "\t<tr><th scope=col>user_id</th><th scope=col>status_id</th><th scope=col>created_at</th><th scope=col>screen_name</th><th scope=col>text</th><th scope=col>source</th><th scope=col>display_text_width</th><th scope=col>reply_to_status_id</th><th scope=col>reply_to_user_id</th><th scope=col>reply_to_screen_name</th><th scope=col>...</th><th scope=col>statuses_count</th><th scope=col>favourites_count</th><th scope=col>account_created_at</th><th scope=col>verified</th><th scope=col>profile_url</th><th scope=col>profile_expanded_url</th><th scope=col>account_lang</th><th scope=col>profile_banner_url</th><th scope=col>profile_background_url</th><th scope=col>profile_image_url</th></tr>\n",
       "\t<tr><th scope=col>&lt;chr&gt;</th><th scope=col>&lt;chr&gt;</th><th scope=col>&lt;dttm&gt;</th><th scope=col>&lt;chr&gt;</th><th scope=col>&lt;chr&gt;</th><th scope=col>&lt;chr&gt;</th><th scope=col>&lt;dbl&gt;</th><th scope=col>&lt;lgl&gt;</th><th scope=col>&lt;lgl&gt;</th><th scope=col>&lt;lgl&gt;</th><th scope=col>...</th><th scope=col>&lt;int&gt;</th><th scope=col>&lt;int&gt;</th><th scope=col>&lt;dttm&gt;</th><th scope=col>&lt;lgl&gt;</th><th scope=col>&lt;chr&gt;</th><th scope=col>&lt;chr&gt;</th><th scope=col>&lt;lgl&gt;</th><th scope=col>&lt;chr&gt;</th><th scope=col>&lt;chr&gt;</th><th scope=col>&lt;chr&gt;</th></tr>\n",
       "</thead>\n",
       "<tbody>\n",
       "\t<tr><td>4263007693         </td><td>1375216486671917058</td><td>2021-03-25 22:42:15</td><td>gp_pulipaka  </td><td>8 Best #MachineLearning Courses for Finance in 2021. #BigData #Analytics #DataScience #AI #FinTech #IoT #IIoT #Python #RStats #TensorFlow #Java #JavaScript #ReactJS #CloudComputing #Serverless #DataScientist #Linux #Programming #Coding #100DaysofCode \n",
       "https://t.co/3UDkeT52MC https://t.co/goN7Kcs8nV</td><td>Buffer             </td><td>275</td><td>NA</td><td>NA</td><td>NA</td><td>...</td><td> 61695</td><td>    9</td><td>2015-11-17 02:19:09</td><td>FALSE</td><td>https://t.co/eYyaJsEcfw</td><td>http://www.gppulipaka.org                               </td><td>NA</td><td>https://pbs.twimg.com/profile_banners/4263007693/1605195322         </td><td>http://abs.twimg.com/images/themes/theme1/bg.png</td><td>http://pbs.twimg.com/profile_images/1354974939887988736/P9wzBxgk_normal.jpg</td></tr>\n",
       "\t<tr><td>1293962931315585024</td><td>1375216450332418054</td><td>2021-03-25 22:42:06</td><td>PythonCodeHub</td><td>Newton’s Method for ML Optimization: Derivation. #BigData #Analytics #DataScience #AI #MachineLearning #IoT #IIoT #Python #RStats #TensorFlow #JavaScript #ReactJS #CloudComputing #Serverless #Linux #Mathematics #Programming #Coding #100DaysofCode \n",
       "https://t.co/pniGeljM2j https://t.co/JB6Hnknm81    </td><td>                   </td><td>139</td><td>NA</td><td>NA</td><td>NA</td><td>...</td><td> 29183</td><td>    1</td><td>2020-08-13 17:29:45</td><td>FALSE</td><td>NA                     </td><td>NA                                                      </td><td>NA</td><td>https://pbs.twimg.com/profile_banners/1293962931315585024/1597415513</td><td>NA                                              </td><td>http://pbs.twimg.com/profile_images/1293963978280968195/fWBluFPZ_normal.jpg</td></tr>\n",
       "\t<tr><td>3394193147         </td><td>1375216412478861312</td><td>2021-03-25 22:41:57</td><td>ac_psy       </td><td>After an hour of grief and frustration, I figured that the British spelling (colour) was the reason ggpubr malfunctioned. I'm sure there is a hack for this that I am blind to. \n",
       "#RStats #rstudio                                                                                                          </td><td>Twitter for Android</td><td>193</td><td>NA</td><td>NA</td><td>NA</td><td>...</td><td>    36</td><td>   48</td><td>2015-07-29 17:36:39</td><td>FALSE</td><td>https://t.co/1L5R79vb8X</td><td>https://research.brighton.ac.uk/en/persons/apurv-chauhan</td><td>NA</td><td>NA                                                                  </td><td>http://abs.twimg.com/images/themes/theme1/bg.png</td><td>http://pbs.twimg.com/profile_images/626447456230854656/QQaQP-Cy_normal.jpg </td></tr>\n",
       "\t<tr><td>1359499831111151621</td><td>1375216392757252106</td><td>2021-03-25 22:41:52</td><td>CalefybTech  </td><td>Code Samples for Neural Networks and Deep Learning. #BigData #Analytics #DataScience #AI #MachineLearning #IoT #IIoT #Python #RStats #TensorFlow #JavaScript #ReactJS #CloudComputing #Serverless #Linux #Books #Programming #Coding #100DaysofCode \n",
       "https://t.co/DwcScRFWxl                               </td><td>                   </td><td>139</td><td>NA</td><td>NA</td><td>NA</td><td>...</td><td>117713</td><td>11868</td><td>2021-02-10 13:50:03</td><td>FALSE</td><td>NA                     </td><td>NA                                                      </td><td>NA</td><td>https://pbs.twimg.com/profile_banners/1359499831111151621/1613050502</td><td>NA                                              </td><td>http://pbs.twimg.com/profile_images/1368884483454169097/hNTZzl3O_normal.png</td></tr>\n",
       "</tbody>\n",
       "</table>\n"
      ],
      "text/latex": [
       "A tibble: 4 × 90\n",
       "\\begin{tabular}{lllllllllllllllllllll}\n",
       " user\\_id & status\\_id & created\\_at & screen\\_name & text & source & display\\_text\\_width & reply\\_to\\_status\\_id & reply\\_to\\_user\\_id & reply\\_to\\_screen\\_name & ... & statuses\\_count & favourites\\_count & account\\_created\\_at & verified & profile\\_url & profile\\_expanded\\_url & account\\_lang & profile\\_banner\\_url & profile\\_background\\_url & profile\\_image\\_url\\\\\n",
       " <chr> & <chr> & <dttm> & <chr> & <chr> & <chr> & <dbl> & <lgl> & <lgl> & <lgl> & ... & <int> & <int> & <dttm> & <lgl> & <chr> & <chr> & <lgl> & <chr> & <chr> & <chr>\\\\\n",
       "\\hline\n",
       "\t 4263007693          & 1375216486671917058 & 2021-03-25 22:42:15 & gp\\_pulipaka   & 8 Best \\#MachineLearning Courses for Finance in 2021. \\#BigData \\#Analytics \\#DataScience \\#AI \\#FinTech \\#IoT \\#IIoT \\#Python \\#RStats \\#TensorFlow \\#Java \\#JavaScript \\#ReactJS \\#CloudComputing \\#Serverless \\#DataScientist \\#Linux \\#Programming \\#Coding \\#100DaysofCode \n",
       "https://t.co/3UDkeT52MC https://t.co/goN7Kcs8nV & Buffer              & 275 & NA & NA & NA & ... &  61695 &     9 & 2015-11-17 02:19:09 & FALSE & https://t.co/eYyaJsEcfw & http://www.gppulipaka.org                                & NA & https://pbs.twimg.com/profile\\_banners/4263007693/1605195322          & http://abs.twimg.com/images/themes/theme1/bg.png & http://pbs.twimg.com/profile\\_images/1354974939887988736/P9wzBxgk\\_normal.jpg\\\\\n",
       "\t 1293962931315585024 & 1375216450332418054 & 2021-03-25 22:42:06 & PythonCodeHub & Newton’s Method for ML Optimization: Derivation. \\#BigData \\#Analytics \\#DataScience \\#AI \\#MachineLearning \\#IoT \\#IIoT \\#Python \\#RStats \\#TensorFlow \\#JavaScript \\#ReactJS \\#CloudComputing \\#Serverless \\#Linux \\#Mathematics \\#Programming \\#Coding \\#100DaysofCode \n",
       "https://t.co/pniGeljM2j https://t.co/JB6Hnknm81     &                     & 139 & NA & NA & NA & ... &  29183 &     1 & 2020-08-13 17:29:45 & FALSE & NA                      & NA                                                       & NA & https://pbs.twimg.com/profile\\_banners/1293962931315585024/1597415513 & NA                                               & http://pbs.twimg.com/profile\\_images/1293963978280968195/fWBluFPZ\\_normal.jpg\\\\\n",
       "\t 3394193147          & 1375216412478861312 & 2021-03-25 22:41:57 & ac\\_psy        & After an hour of grief and frustration, I figured that the British spelling (colour) was the reason ggpubr malfunctioned. I'm sure there is a hack for this that I am blind to. \n",
       "\\#RStats \\#rstudio                                                                                                           & Twitter for Android & 193 & NA & NA & NA & ... &     36 &    48 & 2015-07-29 17:36:39 & FALSE & https://t.co/1L5R79vb8X & https://research.brighton.ac.uk/en/persons/apurv-chauhan & NA & NA                                                                   & http://abs.twimg.com/images/themes/theme1/bg.png & http://pbs.twimg.com/profile\\_images/626447456230854656/QQaQP-Cy\\_normal.jpg \\\\\n",
       "\t 1359499831111151621 & 1375216392757252106 & 2021-03-25 22:41:52 & CalefybTech   & Code Samples for Neural Networks and Deep Learning. \\#BigData \\#Analytics \\#DataScience \\#AI \\#MachineLearning \\#IoT \\#IIoT \\#Python \\#RStats \\#TensorFlow \\#JavaScript \\#ReactJS \\#CloudComputing \\#Serverless \\#Linux \\#Books \\#Programming \\#Coding \\#100DaysofCode \n",
       "https://t.co/DwcScRFWxl                                &                     & 139 & NA & NA & NA & ... & 117713 & 11868 & 2021-02-10 13:50:03 & FALSE & NA                      & NA                                                       & NA & https://pbs.twimg.com/profile\\_banners/1359499831111151621/1613050502 & NA                                               & http://pbs.twimg.com/profile\\_images/1368884483454169097/hNTZzl3O\\_normal.png\\\\\n",
       "\\end{tabular}\n"
      ],
      "text/markdown": [
       "\n",
       "A tibble: 4 × 90\n",
       "\n",
       "| user_id &lt;chr&gt; | status_id &lt;chr&gt; | created_at &lt;dttm&gt; | screen_name &lt;chr&gt; | text &lt;chr&gt; | source &lt;chr&gt; | display_text_width &lt;dbl&gt; | reply_to_status_id &lt;lgl&gt; | reply_to_user_id &lt;lgl&gt; | reply_to_screen_name &lt;lgl&gt; | ... ... | statuses_count &lt;int&gt; | favourites_count &lt;int&gt; | account_created_at &lt;dttm&gt; | verified &lt;lgl&gt; | profile_url &lt;chr&gt; | profile_expanded_url &lt;chr&gt; | account_lang &lt;lgl&gt; | profile_banner_url &lt;chr&gt; | profile_background_url &lt;chr&gt; | profile_image_url &lt;chr&gt; |\n",
       "|---|---|---|---|---|---|---|---|---|---|---|---|---|---|---|---|---|---|---|---|---|\n",
       "| 4263007693          | 1375216486671917058 | 2021-03-25 22:42:15 | gp_pulipaka   | 8 Best #MachineLearning Courses for Finance in 2021. #BigData #Analytics #DataScience #AI #FinTech #IoT #IIoT #Python #RStats #TensorFlow #Java #JavaScript #ReactJS #CloudComputing #Serverless #DataScientist #Linux #Programming #Coding #100DaysofCode \n",
       "https://t.co/3UDkeT52MC https://t.co/goN7Kcs8nV | Buffer              | 275 | NA | NA | NA | ... |  61695 |     9 | 2015-11-17 02:19:09 | FALSE | https://t.co/eYyaJsEcfw | http://www.gppulipaka.org                                | NA | https://pbs.twimg.com/profile_banners/4263007693/1605195322          | http://abs.twimg.com/images/themes/theme1/bg.png | http://pbs.twimg.com/profile_images/1354974939887988736/P9wzBxgk_normal.jpg |\n",
       "| 1293962931315585024 | 1375216450332418054 | 2021-03-25 22:42:06 | PythonCodeHub | Newton’s Method for ML Optimization: Derivation. #BigData #Analytics #DataScience #AI #MachineLearning #IoT #IIoT #Python #RStats #TensorFlow #JavaScript #ReactJS #CloudComputing #Serverless #Linux #Mathematics #Programming #Coding #100DaysofCode \n",
       "https://t.co/pniGeljM2j https://t.co/JB6Hnknm81     | <!----> | 139 | NA | NA | NA | ... |  29183 |     1 | 2020-08-13 17:29:45 | FALSE | NA                      | NA                                                       | NA | https://pbs.twimg.com/profile_banners/1293962931315585024/1597415513 | NA                                               | http://pbs.twimg.com/profile_images/1293963978280968195/fWBluFPZ_normal.jpg |\n",
       "| 3394193147          | 1375216412478861312 | 2021-03-25 22:41:57 | ac_psy        | After an hour of grief and frustration, I figured that the British spelling (colour) was the reason ggpubr malfunctioned. I'm sure there is a hack for this that I am blind to. \n",
       "#RStats #rstudio                                                                                                           | Twitter for Android | 193 | NA | NA | NA | ... |     36 |    48 | 2015-07-29 17:36:39 | FALSE | https://t.co/1L5R79vb8X | https://research.brighton.ac.uk/en/persons/apurv-chauhan | NA | NA                                                                   | http://abs.twimg.com/images/themes/theme1/bg.png | http://pbs.twimg.com/profile_images/626447456230854656/QQaQP-Cy_normal.jpg  |\n",
       "| 1359499831111151621 | 1375216392757252106 | 2021-03-25 22:41:52 | CalefybTech   | Code Samples for Neural Networks and Deep Learning. #BigData #Analytics #DataScience #AI #MachineLearning #IoT #IIoT #Python #RStats #TensorFlow #JavaScript #ReactJS #CloudComputing #Serverless #Linux #Books #Programming #Coding #100DaysofCode \n",
       "https://t.co/DwcScRFWxl                                | <!----> | 139 | NA | NA | NA | ... | 117713 | 11868 | 2021-02-10 13:50:03 | FALSE | NA                      | NA                                                       | NA | https://pbs.twimg.com/profile_banners/1359499831111151621/1613050502 | NA                                               | http://pbs.twimg.com/profile_images/1368884483454169097/hNTZzl3O_normal.png |\n",
       "\n"
      ],
      "text/plain": [
       "  user_id             status_id           created_at          screen_name  \n",
       "1 4263007693          1375216486671917058 2021-03-25 22:42:15 gp_pulipaka  \n",
       "2 1293962931315585024 1375216450332418054 2021-03-25 22:42:06 PythonCodeHub\n",
       "3 3394193147          1375216412478861312 2021-03-25 22:41:57 ac_psy       \n",
       "4 1359499831111151621 1375216392757252106 2021-03-25 22:41:52 CalefybTech  \n",
       "  text                                                                                                                                                                                                                                                                                                        \n",
       "1 8 Best #MachineLearning Courses for Finance in 2021. #BigData #Analytics #DataScience #AI #FinTech #IoT #IIoT #Python #RStats #TensorFlow #Java #JavaScript #ReactJS #CloudComputing #Serverless #DataScientist #Linux #Programming #Coding #100DaysofCode \\nhttps://t.co/3UDkeT52MC https://t.co/goN7Kcs8nV\n",
       "2 Newton’s Method for ML Optimization: Derivation. #BigData #Analytics #DataScience #AI #MachineLearning #IoT #IIoT #Python #RStats #TensorFlow #JavaScript #ReactJS #CloudComputing #Serverless #Linux #Mathematics #Programming #Coding #100DaysofCode \\nhttps://t.co/pniGeljM2j https://t.co/JB6Hnknm81    \n",
       "3 After an hour of grief and frustration, I figured that the British spelling (colour) was the reason ggpubr malfunctioned. I'm sure there is a hack for this that I am blind to. \\n#RStats #rstudio                                                                                                          \n",
       "4 Code Samples for Neural Networks and Deep Learning. #BigData #Analytics #DataScience #AI #MachineLearning #IoT #IIoT #Python #RStats #TensorFlow #JavaScript #ReactJS #CloudComputing #Serverless #Linux #Books #Programming #Coding #100DaysofCode \\nhttps://t.co/DwcScRFWxl                               \n",
       "  source              display_text_width reply_to_status_id reply_to_user_id\n",
       "1 Buffer              275                NA                 NA              \n",
       "2                     139                NA                 NA              \n",
       "3 Twitter for Android 193                NA                 NA              \n",
       "4                     139                NA                 NA              \n",
       "  reply_to_screen_name ... statuses_count favourites_count account_created_at \n",
       "1 NA                   ...  61695             9            2015-11-17 02:19:09\n",
       "2 NA                   ...  29183             1            2020-08-13 17:29:45\n",
       "3 NA                   ...     36            48            2015-07-29 17:36:39\n",
       "4 NA                   ... 117713         11868            2021-02-10 13:50:03\n",
       "  verified profile_url            \n",
       "1 FALSE    https://t.co/eYyaJsEcfw\n",
       "2 FALSE    NA                     \n",
       "3 FALSE    https://t.co/1L5R79vb8X\n",
       "4 FALSE    NA                     \n",
       "  profile_expanded_url                                     account_lang\n",
       "1 http://www.gppulipaka.org                                NA          \n",
       "2 NA                                                       NA          \n",
       "3 https://research.brighton.ac.uk/en/persons/apurv-chauhan NA          \n",
       "4 NA                                                       NA          \n",
       "  profile_banner_url                                                  \n",
       "1 https://pbs.twimg.com/profile_banners/4263007693/1605195322         \n",
       "2 https://pbs.twimg.com/profile_banners/1293962931315585024/1597415513\n",
       "3 NA                                                                  \n",
       "4 https://pbs.twimg.com/profile_banners/1359499831111151621/1613050502\n",
       "  profile_background_url                          \n",
       "1 http://abs.twimg.com/images/themes/theme1/bg.png\n",
       "2 NA                                              \n",
       "3 http://abs.twimg.com/images/themes/theme1/bg.png\n",
       "4 NA                                              \n",
       "  profile_image_url                                                          \n",
       "1 http://pbs.twimg.com/profile_images/1354974939887988736/P9wzBxgk_normal.jpg\n",
       "2 http://pbs.twimg.com/profile_images/1293963978280968195/fWBluFPZ_normal.jpg\n",
       "3 http://pbs.twimg.com/profile_images/626447456230854656/QQaQP-Cy_normal.jpg \n",
       "4 http://pbs.twimg.com/profile_images/1368884483454169097/hNTZzl3O_normal.png"
      ]
     },
     "metadata": {},
     "output_type": "display_data"
    }
   ],
   "source": [
    "rstats_tweets[1:4,]"
   ]
  },
  {
   "cell_type": "code",
   "execution_count": 17,
   "id": "consecutive-climate",
   "metadata": {},
   "outputs": [
    {
     "data": {
      "text/html": [
       "<table class=\"dataframe\">\n",
       "<caption>A data.frame: 10 × 1</caption>\n",
       "<thead>\n",
       "\t<tr><th scope=col>user_id</th></tr>\n",
       "\t<tr><th scope=col>&lt;chr&gt;</th></tr>\n",
       "</thead>\n",
       "<tbody>\n",
       "\t<tr><td>2966470125         </td></tr>\n",
       "\t<tr><td>1358707397825417220</td></tr>\n",
       "\t<tr><td>1330350611796209666</td></tr>\n",
       "\t<tr><td>1331320133654962176</td></tr>\n",
       "\t<tr><td>1961254556         </td></tr>\n",
       "\t<tr><td>1288754505211883521</td></tr>\n",
       "\t<tr><td>1311522988869574657</td></tr>\n",
       "\t<tr><td>949311959735791616 </td></tr>\n",
       "\t<tr><td>4908885163         </td></tr>\n",
       "\t<tr><td>971620109197312000 </td></tr>\n",
       "</tbody>\n",
       "</table>\n"
      ],
      "text/latex": [
       "A data.frame: 10 × 1\n",
       "\\begin{tabular}{l}\n",
       " user\\_id\\\\\n",
       " <chr>\\\\\n",
       "\\hline\n",
       "\t 2966470125         \\\\\n",
       "\t 1358707397825417220\\\\\n",
       "\t 1330350611796209666\\\\\n",
       "\t 1331320133654962176\\\\\n",
       "\t 1961254556         \\\\\n",
       "\t 1288754505211883521\\\\\n",
       "\t 1311522988869574657\\\\\n",
       "\t 949311959735791616 \\\\\n",
       "\t 4908885163         \\\\\n",
       "\t 971620109197312000 \\\\\n",
       "\\end{tabular}\n"
      ],
      "text/markdown": [
       "\n",
       "A data.frame: 10 × 1\n",
       "\n",
       "| user_id &lt;chr&gt; |\n",
       "|---|\n",
       "| 2966470125          |\n",
       "| 1358707397825417220 |\n",
       "| 1330350611796209666 |\n",
       "| 1331320133654962176 |\n",
       "| 1961254556          |\n",
       "| 1288754505211883521 |\n",
       "| 1311522988869574657 |\n",
       "| 949311959735791616  |\n",
       "| 4908885163          |\n",
       "| 971620109197312000  |\n",
       "\n"
      ],
      "text/plain": [
       "   user_id            \n",
       "1  2966470125         \n",
       "2  1358707397825417220\n",
       "3  1330350611796209666\n",
       "4  1331320133654962176\n",
       "5  1961254556         \n",
       "6  1288754505211883521\n",
       "7  1311522988869574657\n",
       "8  949311959735791616 \n",
       "9  4908885163         \n",
       "10 971620109197312000 "
      ]
     },
     "metadata": {},
     "output_type": "display_data"
    }
   ],
   "source": [
    "get_retweeters(\"1375216486671917058\")"
   ]
  },
  {
   "cell_type": "code",
   "execution_count": 19,
   "id": "laden-railway",
   "metadata": {},
   "outputs": [
    {
     "name": "stderr",
     "output_type": "stream",
     "text": [
      "Warning message:\n",
      "\"Invalid required parameter 'id'.\"\n"
     ]
    },
    {
     "data": {
      "text/plain": [
       "Response [https://api.twitter.com/1.1/collections/entries.json?id=1375216486671917058&count=200]\n",
       "  Date: 2021-03-25 22:56\n",
       "  Status: 400\n",
       "  Content-Type: application/json;charset=utf-8\n",
       "  Size: 44 B\n"
      ]
     },
     "metadata": {},
     "output_type": "display_data"
    }
   ],
   "source": [
    "lookup_collections(\"1375216486671917058\")"
   ]
  },
  {
   "cell_type": "code",
   "execution_count": null,
   "id": "prospective-bleeding",
   "metadata": {},
   "outputs": [],
   "source": []
  },
  {
   "cell_type": "code",
   "execution_count": null,
   "id": "lucky-literacy",
   "metadata": {},
   "outputs": [],
   "source": []
  }
 ],
 "metadata": {
  "kernelspec": {
   "display_name": "R",
   "language": "R",
   "name": "ir"
  },
  "language_info": {
   "codemirror_mode": "r",
   "file_extension": ".r",
   "mimetype": "text/x-r-source",
   "name": "R",
   "pygments_lexer": "r",
   "version": "4.0.4"
  }
 },
 "nbformat": 4,
 "nbformat_minor": 5
}

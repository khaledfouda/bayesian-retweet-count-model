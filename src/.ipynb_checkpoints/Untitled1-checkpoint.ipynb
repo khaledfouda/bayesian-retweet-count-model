{
 "cells": [
  {
   "cell_type": "code",
   "execution_count": null,
   "id": "authentic-broadway",
   "metadata": {},
   "outputs": [],
   "source": [
    "access = \"2938446196-LXbAA53aHbJ3XGRULk3VQ3RMs7QBghMLw2n1AfR\"\n",
    "token = \"6dDRM84mubqoDePOi2s1Srapl9dgEcBjmb9fhLUptqdAs\""
   ]
  },
  {
   "cell_type": "code",
   "execution_count": 3,
   "id": "natural-trace",
   "metadata": {},
   "outputs": [
    {
     "name": "stdout",
     "output_type": "stream",
     "text": [
      "writing to getlaura_tweets.csv\n"
     ]
    }
   ],
   "source": [
    "! python get_tweets.py getlaura"
   ]
  },
  {
   "cell_type": "code",
   "execution_count": null,
   "id": "rental-earth",
   "metadata": {},
   "outputs": [],
   "source": []
  },
  {
   "cell_type": "code",
   "execution_count": 5,
   "id": "broken-strain",
   "metadata": {},
   "outputs": [
    {
     "ename": "NameError",
     "evalue": "name 'getlaura' is not defined",
     "output_type": "error",
     "traceback": [
      "\u001b[1;31m---------------------------------------------------------------------------\u001b[0m",
      "\u001b[1;31mNameError\u001b[0m                                 Traceback (most recent call last)",
      "\u001b[1;32m<ipython-input-5-7a53fc778d52>\u001b[0m in \u001b[0;36m<module>\u001b[1;34m\u001b[0m\n\u001b[0;32m      5\u001b[0m \u001b[1;33m\u001b[0m\u001b[0m\n\u001b[0;32m      6\u001b[0m \u001b[1;31m#method to get a user's last tweets\u001b[0m\u001b[1;33m\u001b[0m\u001b[1;33m\u001b[0m\u001b[1;33m\u001b[0m\u001b[0m\n\u001b[1;32m----> 7\u001b[1;33m \u001b[0musername\u001b[0m\u001b[1;33m=\u001b[0m \u001b[0mgetlaura\u001b[0m\u001b[1;33m\u001b[0m\u001b[1;33m\u001b[0m\u001b[0m\n\u001b[0m\u001b[0;32m      8\u001b[0m \u001b[1;31m#http://tweepy.readthedocs.org/en/v3.1.0/getting_started.html#api\u001b[0m\u001b[1;33m\u001b[0m\u001b[1;33m\u001b[0m\u001b[1;33m\u001b[0m\u001b[0m\n\u001b[0;32m      9\u001b[0m \u001b[0mauth\u001b[0m \u001b[1;33m=\u001b[0m \u001b[0mtweepy\u001b[0m\u001b[1;33m.\u001b[0m\u001b[0mOAuthHandler\u001b[0m\u001b[1;33m(\u001b[0m\u001b[0mconsumer_key\u001b[0m\u001b[1;33m,\u001b[0m \u001b[0mconsumer_secret\u001b[0m\u001b[1;33m)\u001b[0m\u001b[1;33m\u001b[0m\u001b[1;33m\u001b[0m\u001b[0m\n",
      "\u001b[1;31mNameError\u001b[0m: name 'getlaura' is not defined"
     ]
    }
   ],
   "source": [
    "consumer_key = \"wF8VVA46X85xwbtvTrXr0d5zn\"\n",
    "consumer_secret = \"Sv1RCJ6Z4A1jaN8Qooltw2n8kDYegT6Az1t3sYBL6hF1JBlS6y\"\n",
    "access_key = \"2938446196-LXbAA53aHbJ3XGRULk3VQ3RMs7QBghMLw2n1AfR\"\n",
    "access_secret = \"6dDRM84mubqoDePOi2s1Srapl9dgEcBjmb9fhLUptqdAs\"\n",
    "\n",
    "#method to get a user's last tweets\n",
    "username= getlaura\n",
    "#http://tweepy.readthedocs.org/en/v3.1.0/getting_started.html#api\n",
    "auth = tweepy.OAuthHandler(consumer_key, consumer_secret)\n",
    "auth.set_access_token(access_key, access_secret)\n",
    "api = tweepy.API(auth)\n",
    "\n",
    "#set count to however many tweets you want\n",
    "number_of_tweets = 1\n",
    "\n",
    "#get tweets\n",
    "tweets_for_csv = []\n",
    "for tweet in tweepy.Cursor(api.user_timeline, screen_name = username).items(number_of_tweets):\n",
    "    #create array of tweet information: username, tweet id, date/time, text\n",
    "    tweets_for_csv.append([username, tweet.id_str, tweet.created_at, tweet.text.encode(\"utf-8\")])\n"
   ]
  },
  {
   "cell_type": "code",
   "execution_count": null,
   "id": "incorrect-newfoundland",
   "metadata": {},
   "outputs": [],
   "source": []
  },
  {
   "cell_type": "code",
   "execution_count": null,
   "id": "academic-teach",
   "metadata": {},
   "outputs": [],
   "source": []
  }
 ],
 "metadata": {
  "kernelspec": {
   "display_name": "Python 3",
   "language": "python",
   "name": "python3"
  },
  "language_info": {
   "codemirror_mode": {
    "name": "ipython",
    "version": 3
   },
   "file_extension": ".py",
   "mimetype": "text/x-python",
   "name": "python",
   "nbconvert_exporter": "python",
   "pygments_lexer": "ipython3",
   "version": "3.8.5"
  }
 },
 "nbformat": 4,
 "nbformat_minor": 5
}

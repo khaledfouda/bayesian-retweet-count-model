{
 "cells": [
  {
   "cell_type": "code",
   "execution_count": null,
   "id": "graphic-maria",
   "metadata": {},
   "outputs": [],
   "source": [
    "access = \"2938446196-LXbAA53aHbJ3XGRULk3VQ3RMs7QBghMLw2n1AfR\"\n",
    "token = \"6dDRM84mubqoDePOi2s1Srapl9dgEcBjmb9fhLUptqdAs\""
   ]
  },
  {
   "cell_type": "code",
   "execution_count": 3,
   "id": "specified-behavior",
   "metadata": {},
   "outputs": [
    {
     "name": "stdout",
     "output_type": "stream",
     "text": [
      "writing to getlaura_tweets.csv\n"
     ]
    }
   ],
   "source": [
    "! python get_tweets.py getlaura"
   ]
  },
  {
   "cell_type": "code",
   "execution_count": 7,
   "id": "flying-space",
   "metadata": {},
   "outputs": [],
   "source": [
    "import tweepy"
   ]
  },
  {
   "cell_type": "code",
   "execution_count": 18,
   "id": "subsequent-bangkok",
   "metadata": {},
   "outputs": [
    {
     "ename": "AttributeError",
     "evalue": "'int' object has no attribute 'id_str'",
     "output_type": "error",
     "traceback": [
      "\u001b[1;31m---------------------------------------------------------------------------\u001b[0m",
      "\u001b[1;31mAttributeError\u001b[0m                            Traceback (most recent call last)",
      "\u001b[1;32m<ipython-input-18-9f95e4431a5d>\u001b[0m in \u001b[0;36m<module>\u001b[1;34m\u001b[0m\n\u001b[0;32m     18\u001b[0m \u001b[1;32mfor\u001b[0m \u001b[0mtweet\u001b[0m \u001b[1;32min\u001b[0m \u001b[0mtweepy\u001b[0m\u001b[1;33m.\u001b[0m\u001b[0mCursor\u001b[0m\u001b[1;33m(\u001b[0m\u001b[0mapi\u001b[0m\u001b[1;33m.\u001b[0m\u001b[0mretweeters\u001b[0m\u001b[1;33m,\u001b[0m \u001b[0mid\u001b[0m\u001b[1;33m=\u001b[0m\u001b[1;34m\"1375195675617529864\"\u001b[0m\u001b[1;33m)\u001b[0m\u001b[1;33m.\u001b[0m\u001b[0mitems\u001b[0m\u001b[1;33m(\u001b[0m\u001b[0mnumber_of_tweets\u001b[0m\u001b[1;33m)\u001b[0m\u001b[1;33m:\u001b[0m\u001b[1;33m\u001b[0m\u001b[1;33m\u001b[0m\u001b[0m\n\u001b[0;32m     19\u001b[0m     \u001b[1;31m#create array of tweet information: username, tweet id, date/time, text\u001b[0m\u001b[1;33m\u001b[0m\u001b[1;33m\u001b[0m\u001b[1;33m\u001b[0m\u001b[0m\n\u001b[1;32m---> 20\u001b[1;33m     \u001b[0mtweets_for_csv\u001b[0m\u001b[1;33m.\u001b[0m\u001b[0mappend\u001b[0m\u001b[1;33m(\u001b[0m\u001b[1;33m[\u001b[0m\u001b[0musername\u001b[0m\u001b[1;33m,\u001b[0m \u001b[0mtweet\u001b[0m\u001b[1;33m.\u001b[0m\u001b[0mid_str\u001b[0m\u001b[1;33m,\u001b[0m \u001b[0mtweet\u001b[0m\u001b[1;33m.\u001b[0m\u001b[0mcreated_at\u001b[0m\u001b[1;33m,\u001b[0m \u001b[0mtweet\u001b[0m\u001b[1;33m.\u001b[0m\u001b[0mtext\u001b[0m\u001b[1;33m.\u001b[0m\u001b[0mencode\u001b[0m\u001b[1;33m(\u001b[0m\u001b[1;34m\"utf-8\"\u001b[0m\u001b[1;33m)\u001b[0m\u001b[1;33m]\u001b[0m\u001b[1;33m)\u001b[0m\u001b[1;33m\u001b[0m\u001b[1;33m\u001b[0m\u001b[0m\n\u001b[0m",
      "\u001b[1;31mAttributeError\u001b[0m: 'int' object has no attribute 'id_str'"
     ]
    }
   ],
   "source": [
    "consumer_key = \"wF8VVA46X85xwbtvTrXr0d5zn\"\n",
    "consumer_secret = \"Sv1RCJ6Z4A1jaN8Qooltw2n8kDYegT6Az1t3sYBL6hF1JBlS6y\"\n",
    "access_key = \"2938446196-LXbAA53aHbJ3XGRULk3VQ3RMs7QBghMLw2n1AfR\"\n",
    "access_secret = \"6dDRM84mubqoDePOi2s1Srapl9dgEcBjmb9fhLUptqdAs\"\n",
    "\n",
    "#method to get a user's last tweets\n",
    "username= 'blaireerskine'\n",
    "#http://tweepy.readthedocs.org/en/v3.1.0/getting_started.html#api\n",
    "auth = tweepy.OAuthHandler(consumer_key, consumer_secret)\n",
    "auth.set_access_token(access_key, access_secret)\n",
    "api = tweepy.API(auth)\n",
    "\n",
    "#set count to however many tweets you want\n",
    "number_of_tweets = 1\n",
    "\n",
    "#get tweets\n",
    "tweets_for_csv = []\n",
    "for tweet in tweepy.Cursor(api.retweeters, id=\"1375195675617529864\").items(number_of_tweets):\n",
    "    #create array of tweet information: username, tweet id, date/time, text\n",
    "    tweets_for_csv.append([username, tweet.id_str, tweet.created_at, tweet.text.encode(\"utf-8\")])\n"
   ]
  },
  {
   "cell_type": "code",
   "execution_count": 19,
   "id": "dramatic-philosophy",
   "metadata": {},
   "outputs": [
    {
     "data": {
      "text/plain": [
       "30583931"
      ]
     },
     "execution_count": 19,
     "metadata": {},
     "output_type": "execute_result"
    }
   ],
   "source": [
    "tweet"
   ]
  },
  {
   "cell_type": "code",
   "execution_count": 22,
   "id": "junior-packet",
   "metadata": {},
   "outputs": [
    {
     "name": "stdout",
     "output_type": "stream",
     "text": [
      "30583931\n",
      "849261901\n",
      "808827316470185989\n",
      "24806959\n",
      "851678533374136321\n",
      "150553708\n",
      "934517509440536576\n",
      "191664057\n",
      "2927022706\n",
      "824072375067086848\n",
      "90462494\n",
      "898508679393271810\n",
      "717849206191366144\n",
      "108151251\n",
      "184036627\n",
      "1304467702644432899\n",
      "353211046\n",
      "864636075309924353\n",
      "1176866046067609600\n",
      "720339645582577664\n",
      "768935155406770176\n",
      "1069716553246007296\n",
      "1087228338693914624\n",
      "123079480\n",
      "22679533\n",
      "1268923514402324487\n",
      "702975544762224644\n",
      "44456936\n",
      "1245841383405113344\n",
      "215282087\n",
      "297686047\n",
      "19289817\n",
      "1257354940877594625\n",
      "1179601796454633483\n",
      "812139986\n",
      "623794918\n",
      "3470044732\n",
      "858065331654451200\n",
      "1304914532792492032\n",
      "17078685\n",
      "838129184941600768\n",
      "3222614367\n",
      "210292449\n",
      "3281257885\n",
      "1351028008065392641\n",
      "1238286561155964928\n",
      "766132867416064000\n",
      "1304931108455317509\n",
      "14333167\n",
      "70080252\n",
      "1470723084\n",
      "700298390\n",
      "805080540114128896\n",
      "1196056453150150656\n",
      "182840025\n",
      "29033836\n",
      "2369827038\n",
      "1096522836007473152\n",
      "1098042650417086465\n",
      "28036923\n",
      "2708081856\n",
      "57666349\n",
      "2638011844\n",
      "62162071\n",
      "803055174537347072\n",
      "33420125\n",
      "1121544407839334400\n",
      "808949974209798144\n",
      "2508965161\n",
      "2790227032\n",
      "1581454063\n",
      "20114738\n",
      "3321386251\n",
      "1197979193218338816\n",
      "1058318750\n",
      "41748112\n",
      "1242172412504006656\n",
      "1250068351499603975\n",
      "324455870\n",
      "290771271\n",
      "783730847895592960\n",
      "2763910490\n",
      "78760711\n",
      "3465357079\n",
      "8039552\n",
      "380608558\n",
      "26310293\n",
      "155432657\n",
      "124159838\n",
      "1296270708914425856\n"
     ]
    }
   ],
   "source": [
    "for tweet in tweepy.Cursor(api.retweeters, id=\"1375195675617529864\").items():\n",
    "    print(tweet)"
   ]
  },
  {
   "cell_type": "code",
   "execution_count": null,
   "id": "coral-brooklyn",
   "metadata": {},
   "outputs": [],
   "source": []
  }
 ],
 "metadata": {
  "kernelspec": {
   "display_name": "Python 3",
   "language": "python",
   "name": "python3"
  },
  "language_info": {
   "codemirror_mode": {
    "name": "ipython",
    "version": 3
   },
   "file_extension": ".py",
   "mimetype": "text/x-python",
   "name": "python",
   "nbconvert_exporter": "python",
   "pygments_lexer": "ipython3",
   "version": "3.8.5"
  }
 },
 "nbformat": 4,
 "nbformat_minor": 5
}

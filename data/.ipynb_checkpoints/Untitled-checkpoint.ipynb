{
 "cells": [
  {
   "cell_type": "code",
   "execution_count": 141,
   "id": "informed-title",
   "metadata": {},
   "outputs": [],
   "source": [
    "library(lubridate)\n",
    "library(data.table)\n",
    "library(dplyr)\n",
    "library(Polychrome)\n",
    "library(ggplot2)"
   ]
  },
  {
   "cell_type": "code",
   "execution_count": 5,
   "id": "enormous-hundred",
   "metadata": {},
   "outputs": [],
   "source": [
    "datetimediff = function(t){\n",
    "    t = sapply(strsplit(t, \", \"), \"[\", 2)\n",
    "    #tt = as.Date(t, format='%d %b %Y %H:%M:%S')\n",
    "    tt = as.POSIXct(t,format='%d %b %Y %H:%M:%S')\n",
    "    tt = sapply(tt, function(d) as.numeric(difftime(d , tt[1],units = 'mins'))  )\n",
    "    return(tt)\n",
    "}"
   ]
  },
  {
   "cell_type": "code",
   "execution_count": 106,
   "id": "logical-location",
   "metadata": {},
   "outputs": [
    {
     "name": "stderr",
     "output_type": "stream",
     "text": [
      "Warning message in read.table(\"./data/RetweetDataAOAS/retweet_data/Source_followers_tweet_0031_CNET.txt\", :\n",
      "\"incomplete final line found by readTableHeader on './data/RetweetDataAOAS/retweet_data/Source_followers_tweet_0031_CNET.txt'\"\n",
      "Warning message in scan(file = file, what = what, sep = sep, quote = quote, dec = dec, :\n",
      "\"EOF within quoted string\"\n"
     ]
    },
    {
     "data": {
      "text/html": [
       "<table class=\"dataframe\">\n",
       "<caption>A data.frame: 14 × 7</caption>\n",
       "<thead>\n",
       "\t<tr><th scope=col>RetweetCount</th><th scope=col>UserId</th><th scope=col>ScreenName</th><th scope=col>FollowerCount</th><th scope=col>DistanceFromRoot</th><th scope=col>ParentScreenName</th><th scope=col>TimeDiff</th></tr>\n",
       "\t<tr><th scope=col>&lt;int&gt;</th><th scope=col>&lt;int&gt;</th><th scope=col>&lt;chr&gt;</th><th scope=col>&lt;int&gt;</th><th scope=col>&lt;int&gt;</th><th scope=col>&lt;chr&gt;</th><th scope=col>&lt;dbl&gt;</th></tr>\n",
       "</thead>\n",
       "<tbody>\n",
       "\t<tr><td> 7</td><td> 48554319</td><td>Melgindy      </td><td>150</td><td>1</td><td>CNET</td><td>  0.000000</td></tr>\n",
       "\t<tr><td> 9</td><td>176863908</td><td>w1selabs      </td><td>320</td><td>1</td><td>CNET</td><td>  2.916667</td></tr>\n",
       "\t<tr><td>11</td><td>498392511</td><td>bcwideweb     </td><td> 63</td><td>1</td><td>CNET</td><td>  4.616667</td></tr>\n",
       "\t<tr><td>13</td><td>370972847</td><td>socialmrktr   </td><td>861</td><td>1</td><td>CNET</td><td>  4.650000</td></tr>\n",
       "\t<tr><td>15</td><td>133173970</td><td>LondaMavundla </td><td>644</td><td>1</td><td>CNET</td><td>  8.816667</td></tr>\n",
       "\t<tr><td>17</td><td>441485971</td><td>geekscheaper  </td><td>118</td><td>1</td><td>CNET</td><td> 14.883333</td></tr>\n",
       "\t<tr><td>18</td><td> 77725851</td><td>superprinses  </td><td>467</td><td>1</td><td>CNET</td><td> 17.650000</td></tr>\n",
       "\t<tr><td>20</td><td>416902611</td><td>JimmyLimes    </td><td> 87</td><td>1</td><td>CNET</td><td> 24.983333</td></tr>\n",
       "\t<tr><td>22</td><td>349094512</td><td>MichaelForwell</td><td> 19</td><td>1</td><td>CNET</td><td> 82.783333</td></tr>\n",
       "\t<tr><td>23</td><td>271014740</td><td>SociallyTuned </td><td>226</td><td>1</td><td>CNET</td><td> 82.800000</td></tr>\n",
       "\t<tr><td>24</td><td>386296376</td><td>kennylee628   </td><td> 27</td><td>1</td><td>CNET</td><td> 86.800000</td></tr>\n",
       "\t<tr><td>26</td><td>430949694</td><td>grangermdk    </td><td> 96</td><td>1</td><td>CNET</td><td>232.466667</td></tr>\n",
       "\t<tr><td>28</td><td>109091566</td><td>RyZilla124    </td><td>258</td><td>1</td><td>CNET</td><td>518.083333</td></tr>\n",
       "\t<tr><td>30</td><td>208686705</td><td>ampleprem     </td><td> 32</td><td>1</td><td>CNET</td><td>738.233333</td></tr>\n",
       "</tbody>\n",
       "</table>\n"
      ],
      "text/latex": [
       "A data.frame: 14 × 7\n",
       "\\begin{tabular}{lllllll}\n",
       " RetweetCount & UserId & ScreenName & FollowerCount & DistanceFromRoot & ParentScreenName & TimeDiff\\\\\n",
       " <int> & <int> & <chr> & <int> & <int> & <chr> & <dbl>\\\\\n",
       "\\hline\n",
       "\t  7 &  48554319 & Melgindy       & 150 & 1 & CNET &   0.000000\\\\\n",
       "\t  9 & 176863908 & w1selabs       & 320 & 1 & CNET &   2.916667\\\\\n",
       "\t 11 & 498392511 & bcwideweb      &  63 & 1 & CNET &   4.616667\\\\\n",
       "\t 13 & 370972847 & socialmrktr    & 861 & 1 & CNET &   4.650000\\\\\n",
       "\t 15 & 133173970 & LondaMavundla  & 644 & 1 & CNET &   8.816667\\\\\n",
       "\t 17 & 441485971 & geekscheaper   & 118 & 1 & CNET &  14.883333\\\\\n",
       "\t 18 &  77725851 & superprinses   & 467 & 1 & CNET &  17.650000\\\\\n",
       "\t 20 & 416902611 & JimmyLimes     &  87 & 1 & CNET &  24.983333\\\\\n",
       "\t 22 & 349094512 & MichaelForwell &  19 & 1 & CNET &  82.783333\\\\\n",
       "\t 23 & 271014740 & SociallyTuned  & 226 & 1 & CNET &  82.800000\\\\\n",
       "\t 24 & 386296376 & kennylee628    &  27 & 1 & CNET &  86.800000\\\\\n",
       "\t 26 & 430949694 & grangermdk     &  96 & 1 & CNET & 232.466667\\\\\n",
       "\t 28 & 109091566 & RyZilla124     & 258 & 1 & CNET & 518.083333\\\\\n",
       "\t 30 & 208686705 & ampleprem      &  32 & 1 & CNET & 738.233333\\\\\n",
       "\\end{tabular}\n"
      ],
      "text/markdown": [
       "\n",
       "A data.frame: 14 × 7\n",
       "\n",
       "| RetweetCount &lt;int&gt; | UserId &lt;int&gt; | ScreenName &lt;chr&gt; | FollowerCount &lt;int&gt; | DistanceFromRoot &lt;int&gt; | ParentScreenName &lt;chr&gt; | TimeDiff &lt;dbl&gt; |\n",
       "|---|---|---|---|---|---|---|\n",
       "|  7 |  48554319 | Melgindy       | 150 | 1 | CNET |   0.000000 |\n",
       "|  9 | 176863908 | w1selabs       | 320 | 1 | CNET |   2.916667 |\n",
       "| 11 | 498392511 | bcwideweb      |  63 | 1 | CNET |   4.616667 |\n",
       "| 13 | 370972847 | socialmrktr    | 861 | 1 | CNET |   4.650000 |\n",
       "| 15 | 133173970 | LondaMavundla  | 644 | 1 | CNET |   8.816667 |\n",
       "| 17 | 441485971 | geekscheaper   | 118 | 1 | CNET |  14.883333 |\n",
       "| 18 |  77725851 | superprinses   | 467 | 1 | CNET |  17.650000 |\n",
       "| 20 | 416902611 | JimmyLimes     |  87 | 1 | CNET |  24.983333 |\n",
       "| 22 | 349094512 | MichaelForwell |  19 | 1 | CNET |  82.783333 |\n",
       "| 23 | 271014740 | SociallyTuned  | 226 | 1 | CNET |  82.800000 |\n",
       "| 24 | 386296376 | kennylee628    |  27 | 1 | CNET |  86.800000 |\n",
       "| 26 | 430949694 | grangermdk     |  96 | 1 | CNET | 232.466667 |\n",
       "| 28 | 109091566 | RyZilla124     | 258 | 1 | CNET | 518.083333 |\n",
       "| 30 | 208686705 | ampleprem      |  32 | 1 | CNET | 738.233333 |\n",
       "\n"
      ],
      "text/plain": [
       "   RetweetCount UserId    ScreenName     FollowerCount DistanceFromRoot\n",
       "1   7            48554319 Melgindy       150           1               \n",
       "2   9           176863908 w1selabs       320           1               \n",
       "3  11           498392511 bcwideweb       63           1               \n",
       "4  13           370972847 socialmrktr    861           1               \n",
       "5  15           133173970 LondaMavundla  644           1               \n",
       "6  17           441485971 geekscheaper   118           1               \n",
       "7  18            77725851 superprinses   467           1               \n",
       "8  20           416902611 JimmyLimes      87           1               \n",
       "9  22           349094512 MichaelForwell  19           1               \n",
       "10 23           271014740 SociallyTuned  226           1               \n",
       "11 24           386296376 kennylee628     27           1               \n",
       "12 26           430949694 grangermdk      96           1               \n",
       "13 28           109091566 RyZilla124     258           1               \n",
       "14 30           208686705 ampleprem       32           1               \n",
       "   ParentScreenName TimeDiff  \n",
       "1  CNET               0.000000\n",
       "2  CNET               2.916667\n",
       "3  CNET               4.616667\n",
       "4  CNET               4.650000\n",
       "5  CNET               8.816667\n",
       "6  CNET              14.883333\n",
       "7  CNET              17.650000\n",
       "8  CNET              24.983333\n",
       "9  CNET              82.783333\n",
       "10 CNET              82.800000\n",
       "11 CNET              86.800000\n",
       "12 CNET             232.466667\n",
       "13 CNET             518.083333\n",
       "14 CNET             738.233333"
      ]
     },
     "metadata": {},
     "output_type": "display_data"
    }
   ],
   "source": [
    "header = c(\"RetweetCount\", \"UserId\", \"ScreenName\", \"FollowerCount\", \"DistanceFromRoot\", \"Time\", \"ParentScreenName\", \"Text\")\n",
    "data = read.table('./data/RetweetDataAOAS/retweet_data/Source_followers_tweet_0031_CNET.txt',sep = '\\t',col.names = header)\n",
    "\n",
    "data$TimeDiff = datetimediff(data$Time)\n",
    "data$Time = NULL\n",
    "data$Text = NULL\n",
    "data"
   ]
  },
  {
   "cell_type": "code",
   "execution_count": 170,
   "id": "persistent-corruption",
   "metadata": {},
   "outputs": [
    {
     "name": "stderr",
     "output_type": "stream",
     "text": [
      "Warning message in read.table(f, sep = \"\\t\", col.names = header, header = FALSE):\n",
      "\"incomplete final line found by readTableHeader on 'data/RetweetDataAOAS/retweet_data/Source_followers_tweet_0031_CNET.txt'\"\n",
      "Warning message in scan(file = file, what = what, sep = sep, quote = quote, dec = dec, :\n",
      "\"EOF within quoted string\"\n",
      "Warning message in scan(file = file, what = what, sep = sep, quote = quote, dec = dec, :\n",
      "\"EOF within quoted string\"\n",
      "Warning message in scan(file = file, what = what, sep = sep, quote = quote, dec = dec, :\n",
      "\"EOF within quoted string\"\n",
      "Warning message in scan(file = file, what = what, sep = sep, quote = quote, dec = dec, :\n",
      "\"EOF within quoted string\"\n",
      "Warning message in scan(file = file, what = what, sep = sep, quote = quote, dec = dec, :\n",
      "\"EOF within quoted string\"\n",
      "Warning message in scan(file = file, what = what, sep = sep, quote = quote, dec = dec, :\n",
      "\"EOF within quoted string\"\n",
      "Warning message in scan(file = file, what = what, sep = sep, quote = quote, dec = dec, :\n",
      "\"EOF within quoted string\"\n",
      "Warning message in scan(file = file, what = what, sep = sep, quote = quote, dec = dec, :\n",
      "\"EOF within quoted string\"\n",
      "Warning message in scan(file = file, what = what, sep = sep, quote = quote, dec = dec, :\n",
      "\"EOF within quoted string\"\n",
      "Warning message in scan(file = file, what = what, sep = sep, quote = quote, dec = dec, :\n",
      "\"EOF within quoted string\"\n",
      "Warning message in scan(file = file, what = what, sep = sep, quote = quote, dec = dec, :\n",
      "\"EOF within quoted string\"\n",
      "Warning message in scan(file = file, what = what, sep = sep, quote = quote, dec = dec, :\n",
      "\"EOF within quoted string\"\n",
      "Warning message in scan(file = file, what = what, sep = sep, quote = quote, dec = dec, :\n",
      "\"EOF within quoted string\"\n",
      "Warning message in scan(file = file, what = what, sep = sep, quote = quote, dec = dec, :\n",
      "\"EOF within quoted string\"\n",
      "Warning message in scan(file = file, what = what, sep = sep, quote = quote, dec = dec, :\n",
      "\"EOF within quoted string\"\n",
      "Warning message in scan(file = file, what = what, sep = sep, quote = quote, dec = dec, :\n",
      "\"EOF within quoted string\"\n",
      "Warning message in scan(file = file, what = what, sep = sep, quote = quote, dec = dec, :\n",
      "\"EOF within quoted string\"\n",
      "Warning message in scan(file = file, what = what, sep = sep, quote = quote, dec = dec, :\n",
      "\"EOF within quoted string\"\n",
      "Warning message in scan(file = file, what = what, sep = sep, quote = quote, dec = dec, :\n",
      "\"EOF within quoted string\"\n"
     ]
    }
   ],
   "source": [
    "header = c(\"RetweetCount\", \"UserId\", \"ScreenName\", \"FollowerCount\", \"DistanceFromRoot\", \"Time\", \"ParentScreenName\", \"Text\")\n",
    "file_list <- list.files(path=\"data/RetweetDataAOAS/retweet_data/\",full.names = T)\n",
    "dataset = data.frame()\n",
    "counter = 1\n",
    "all.data = list()\n",
    "for (f in file_list){\n",
    "    d = read.table(f,sep = '\\t',col.names = header,header=FALSE)\n",
    "    d$TimeDiff = datetimediff(d$Time)\n",
    "    d$Time = NULL\n",
    "    d$Text = NULL\n",
    "    d$response = NA\n",
    "    d$response[1] = tail(d$RetweetCount,n=1)\n",
    "    d$TimeRatio = d$TimeDiff/tail(d$TimeDiff,n=1)\n",
    "    d$RetweetRatio = d$RetweetCount/tail(d$RetweetCount,n=1)\n",
    "    d$case = counter\n",
    "    counter = counter + 1\n",
    "    dataset <- rbindlist(list(dataset, d), use.names = T)\n",
    "}\n",
    "C52 = createPalette(52,  c(\"#ff0000\", \"#00ff00\", \"#0000ff\"))\n",
    "dataset$color = rep(C52, times=c(table(dataset$case)))"
   ]
  },
  {
   "cell_type": "code",
   "execution_count": null,
   "id": "communist-desperate",
   "metadata": {},
   "outputs": [],
   "source": []
  },
  {
   "cell_type": "code",
   "execution_count": 171,
   "id": "signed-february",
   "metadata": {},
   "outputs": [
    {
     "ename": "ERROR",
     "evalue": "Error in FUN(X[[i]], ...): object 'color' not found\n",
     "output_type": "error",
     "traceback": [
      "Error in FUN(X[[i]], ...): object 'color' not found\nTraceback:\n",
      "1. dataset %>% group_by(case) %>% plot(RetweetRatio ~ TimeRatio, \n .     data = ., type = \"l\", col = color)",
      "2. plot(RetweetRatio ~ TimeRatio, data = ., type = \"l\", col = color)",
      "3. plot.formula(RetweetRatio ~ TimeRatio, data = ., type = \"l\", \n .     col = color)",
      "4. lapply(m$..., eval, md, eframe)",
      "5. FUN(X[[i]], ...)",
      "6. FUN(X[[i]], ...)"
     ]
    }
   ],
   "source": [
    "dataset %>% group_by(case) %>% \n",
    "    plot(RetweetRatio~TimeRatio,data=.,type='l',col=color)\n",
    "abline(h=.8,v=.4)"
   ]
  },
  {
   "cell_type": "code",
   "execution_count": 58,
   "id": "subtle-flour",
   "metadata": {},
   "outputs": [
    {
     "data": {
      "text/html": [
       "23"
      ],
      "text/latex": [
       "23"
      ],
      "text/markdown": [
       "23"
      ],
      "text/plain": [
       "[1] 23"
      ]
     },
     "metadata": {},
     "output_type": "display_data"
    },
    {
     "data": {
      "text/html": [
       "23"
      ],
      "text/latex": [
       "23"
      ],
      "text/markdown": [
       "23"
      ],
      "text/plain": [
       "[1] 23"
      ]
     },
     "metadata": {},
     "output_type": "display_data"
    }
   ],
   "source": [
    "dataset %>% filter(case==2) %>% select(TimeDiff)  -> o\n",
    "length(o$TimeDiff / tail(o$TimeDiff,n=1))\n",
    "length(o$TimeDiff)"
   ]
  },
  {
   "cell_type": "code",
   "execution_count": 102,
   "id": "literary-smile",
   "metadata": {
    "collapsed": true,
    "jupyter": {
     "outputs_hidden": true
    }
   },
   "outputs": [
    {
     "ename": "ERROR",
     "evalue": "Error: Problem with `mutate()` input `Color`.\n\u001b[31mx\u001b[39m Input `Color` can't be recycled to size 11.\n\u001b[34mi\u001b[39m Input `Color` is `C52`.\n\u001b[34mi\u001b[39m Input `Color` must be size 11 or 1, not 8777.\n\u001b[34mi\u001b[39m The error occurred in group 1: case = 1.\n",
     "output_type": "error",
     "traceback": [
      "Error: Problem with `mutate()` input `Color`.\n\u001b[31mx\u001b[39m Input `Color` can't be recycled to size 11.\n\u001b[34mi\u001b[39m Input `Color` is `C52`.\n\u001b[34mi\u001b[39m Input `Color` must be size 11 or 1, not 8777.\n\u001b[34mi\u001b[39m The error occurred in group 1: case = 1.\nTraceback:\n",
      "1. dataset %>% group_by(case) %>% mutate(TimeRatio = TimeDiff/tail(TimeDiff, \n .     n = 1), RetweetRatio = RetweetCount/tail(RetweetCount, n = 1), \n .     Color = C52)",
      "2. mutate(., TimeRatio = TimeDiff/tail(TimeDiff, n = 1), RetweetRatio = RetweetCount/tail(RetweetCount, \n .     n = 1), Color = C52)",
      "3. mutate.data.frame(., TimeRatio = TimeDiff/tail(TimeDiff, n = 1), \n .     RetweetRatio = RetweetCount/tail(RetweetCount, n = 1), Color = C52)",
      "4. mutate_cols(.data, ...)",
      "5. withCallingHandlers({\n .     for (i in seq_along(dots)) {\n .         mask$across_cache_reset()\n .         quosures <- expand_quosure(dots[[i]])\n .         quosures_results <- vector(mode = \"list\", length = length(quosures))\n .         for (k in seq_along(quosures)) {\n .             quo <- quosures[[k]]\n .             quo_data <- attr(quo, \"dplyr:::data\")\n .             context_poke(\"column\", quo_data$column)\n .             chunks <- NULL\n .             result <- NULL\n .             if (quo_is_symbol(quo)) {\n .                 name <- as_string(quo_get_expr(quo))\n .                 if (name %in% names(new_columns)) {\n .                   result <- new_columns[[name]]\n .                   chunks <- mask$resolve(name)\n .                 }\n .                 else if (name %in% names(.data)) {\n .                   result <- .data[[name]]\n .                   chunks <- mask$resolve(name)\n .                 }\n .                 if (inherits(.data, \"rowwise_df\") && vec_is_list(result)) {\n .                   sizes <- list_sizes(result)\n .                   wrong <- which(sizes != 1)\n .                   if (length(wrong)) {\n .                     group <- wrong[1L]\n .                     mask$set_current_group(group)\n .                     abort(x_size = sizes[group], class = \"dplyr:::mutate_incompatible_size\")\n .                   }\n .                 }\n .             }\n .             if (is.null(chunks)) {\n .                 chunks <- mask$eval_all_mutate(quo)\n .             }\n .             if (is.null(chunks)) {\n .                 next\n .             }\n .             if (is.null(result)) {\n .                 if (length(rows) == 1) {\n .                   result <- chunks[[1]]\n .                 }\n .                 else {\n .                   result <- withCallingHandlers(vec_unchop(chunks <- vec_cast_common(!!!chunks), \n .                     rows), vctrs_error_incompatible_type = function(cnd) {\n .                     abort(class = \"dplyr:::error_mutate_incompatible_combine\", \n .                       parent = cnd)\n .                   })\n .                 }\n .             }\n .             quosures_results[[k]] <- list(result = result, chunks = chunks)\n .         }\n .         for (k in seq_along(quosures)) {\n .             quo <- quosures[[k]]\n .             quo_data <- attr(quo, \"dplyr:::data\")\n .             quo_result <- quosures_results[[k]]\n .             if (is.null(quo_result)) {\n .                 if (quo_data$is_named) {\n .                   name <- quo_data$name_given\n .                   new_columns[[name]] <- zap()\n .                   mask$remove(name)\n .                 }\n .                 next\n .             }\n .             result <- quo_result$result\n .             chunks <- quo_result$chunks\n .             if (!quo_data$is_named && is.data.frame(result)) {\n .                 new_columns[names(result)] <- result\n .                 mask$add_many(result, chunks)\n .             }\n .             else {\n .                 name <- quo_data$name_auto\n .                 new_columns[[name]] <- result\n .                 mask$add_one(name, chunks)\n .             }\n .         }\n .     }\n . }, error = function(e) {\n .     local_call_step(dots = dots, .index = i, .fn = \"mutate\", \n .         .dot_data = inherits(e, \"rlang_error_data_pronoun_not_found\"))\n .     call_step_envir <- peek_call_step()\n .     error_name <- call_step_envir$error_name\n .     error_expression <- call_step_envir$error_expression\n .     show_group_details <- TRUE\n .     if (inherits(e, \"dplyr:::mutate_incompatible_size\")) {\n .         size <- vec_size(rows[[mask$get_current_group()]])\n .         x_size <- e$x_size\n .         bullets <- c(x = glue(\"Input `{error_name}` can't be recycled to size {size}.\"), \n .             i = cnd_bullet_input_info(), i = glue(\"Input `{error_name}` must be size {or_1(size)}, not {x_size}.\"), \n .             i = cnd_bullet_rowwise_unlist())\n .     }\n .     else if (inherits(e, \"dplyr:::mutate_mixed_null\")) {\n .         show_group_details <- FALSE\n .         bullets <- c(x = glue(\"`{error_name}` must return compatible vectors across groups.\"), \n .             i = cnd_bullet_input_info(), i = \"Cannot combine NULL and non NULL results.\", \n .             i = cnd_bullet_rowwise_unlist())\n .     }\n .     else if (inherits(e, \"dplyr:::mutate_not_vector\")) {\n .         bullets <- c(x = glue(\"Input `{error_name}` must be a vector, not {friendly_type_of(e$result)}.\"), \n .             i = cnd_bullet_input_info(), i = cnd_bullet_rowwise_unlist())\n .     }\n .     else if (inherits(e, \"dplyr:::error_mutate_incompatible_combine\")) {\n .         show_group_details <- FALSE\n .         bullets <- c(x = glue(\"Input `{error_name}` must return compatible vectors across groups\"), \n .             i = cnd_bullet_input_info(), i = cnd_bullet_combine_details(e$parent$x, \n .                 e$parent$x_arg), i = cnd_bullet_combine_details(e$parent$y, \n .                 e$parent$y_arg))\n .     }\n .     else {\n .         bullets <- c(x = conditionMessage(e), i = cnd_bullet_input_info())\n .     }\n .     bullets <- c(cnd_bullet_header(), bullets, i = if (show_group_details) cnd_bullet_cur_group_label())\n .     abort(bullets, class = c(\"dplyr:::mutate_error\", \"dplyr_error\"), \n .         error_name = error_name, error_expression = error_expression, \n .         parent = e, bullets = bullets)\n . }, warning = function(w) {\n .     if (check_muffled_warning(w)) {\n .         maybe_restart(\"muffleWarning\")\n .     }\n .     local_call_step(dots = dots, .index = i, .fn = \"mutate\")\n .     warn(c(cnd_bullet_header(), i = conditionMessage(w), i = cnd_bullet_input_info(), \n .         i = cnd_bullet_cur_group_label(what = \"warning\")))\n .     maybe_restart(\"muffleWarning\")\n . })",
      "6. mask$eval_all_mutate(quo)",
      "7. abort_glue(character(0), list(x_size = 8777L), \"dplyr:::mutate_incompatible_size\")",
      "8. exec(abort, class = class, !!!data)",
      "9. (function (message = NULL, class = NULL, ..., trace = NULL, parent = NULL, \n .     .subclass = deprecated()) \n . {\n .     validate_signal_args(.subclass)\n .     if (is_null(trace) && is_null(peek_option(\"rlang:::disable_trace_capture\"))) {\n .         with_options(`rlang:::disable_trace_capture` = TRUE, \n .             {\n .                 trace <- trace_back()\n .                 if (is_null(parent)) {\n .                   context <- trace_length(trace)\n .                 }\n .                 else {\n .                   context <- trace_capture_depth(trace)\n .                 }\n .                 trace <- trace_trim_context(trace, context)\n .             })\n .     }\n .     message <- validate_signal_message(message, class)\n .     message <- collapse_cnd_message(message)\n .     cnd <- error_cnd(class, ..., message = message, parent = parent, \n .         trace = trace)\n .     signal_abort(cnd)\n . })(class = \"dplyr:::mutate_incompatible_size\", x_size = 8777L)",
      "10. signal_abort(cnd)",
      "11. signalCondition(cnd)",
      "12. (function (e) \n  . {\n  .     local_call_step(dots = dots, .index = i, .fn = \"mutate\", \n  .         .dot_data = inherits(e, \"rlang_error_data_pronoun_not_found\"))\n  .     call_step_envir <- peek_call_step()\n  .     error_name <- call_step_envir$error_name\n  .     error_expression <- call_step_envir$error_expression\n  .     show_group_details <- TRUE\n  .     if (inherits(e, \"dplyr:::mutate_incompatible_size\")) {\n  .         size <- vec_size(rows[[mask$get_current_group()]])\n  .         x_size <- e$x_size\n  .         bullets <- c(x = glue(\"Input `{error_name}` can't be recycled to size {size}.\"), \n  .             i = cnd_bullet_input_info(), i = glue(\"Input `{error_name}` must be size {or_1(size)}, not {x_size}.\"), \n  .             i = cnd_bullet_rowwise_unlist())\n  .     }\n  .     else if (inherits(e, \"dplyr:::mutate_mixed_null\")) {\n  .         show_group_details <- FALSE\n  .         bullets <- c(x = glue(\"`{error_name}` must return compatible vectors across groups.\"), \n  .             i = cnd_bullet_input_info(), i = \"Cannot combine NULL and non NULL results.\", \n  .             i = cnd_bullet_rowwise_unlist())\n  .     }\n  .     else if (inherits(e, \"dplyr:::mutate_not_vector\")) {\n  .         bullets <- c(x = glue(\"Input `{error_name}` must be a vector, not {friendly_type_of(e$result)}.\"), \n  .             i = cnd_bullet_input_info(), i = cnd_bullet_rowwise_unlist())\n  .     }\n  .     else if (inherits(e, \"dplyr:::error_mutate_incompatible_combine\")) {\n  .         show_group_details <- FALSE\n  .         bullets <- c(x = glue(\"Input `{error_name}` must return compatible vectors across groups\"), \n  .             i = cnd_bullet_input_info(), i = cnd_bullet_combine_details(e$parent$x, \n  .                 e$parent$x_arg), i = cnd_bullet_combine_details(e$parent$y, \n  .                 e$parent$y_arg))\n  .     }\n  .     else {\n  .         bullets <- c(x = conditionMessage(e), i = cnd_bullet_input_info())\n  .     }\n  .     bullets <- c(cnd_bullet_header(), bullets, i = if (show_group_details) cnd_bullet_cur_group_label())\n  .     abort(bullets, class = c(\"dplyr:::mutate_error\", \"dplyr_error\"), \n  .         error_name = error_name, error_expression = error_expression, \n  .         parent = e, bullets = bullets)\n  . })(structure(list(message = \"\", trace = structure(list(calls = list(\n  .     IRkernel::main(), kernel$run(), IRkernel:::handle_shell(), \n  .     executor$execute(msg), base::tryCatch(evaluate(request$content$code, \n  .         envir = .GlobalEnv, output_handler = oh, stop_on_error = 1L), \n  .         interrupt = function(cond) {\n  .             log_debug(\"Interrupt during execution\")\n  .             interrupted <<- TRUE\n  .         }, error = .self$handle_error), base:::tryCatchList(expr, \n  .         classes, parentenv, handlers), base:::tryCatchOne(tryCatchList(expr, \n  .         names[-nh], parentenv, handlers[-nh]), names[nh], parentenv, \n  .         handlers[[nh]]), base:::doTryCatch(return(expr), name, \n  .         parentenv, handler), base:::tryCatchList(expr, names[-nh], \n  .         parentenv, handlers[-nh]), base:::tryCatchOne(expr, names, \n  .         parentenv, handlers[[1L]]), base:::doTryCatch(return(expr), \n  .         name, parentenv, handler), evaluate::evaluate(request$content$code, \n  .         envir = .GlobalEnv, output_handler = oh, stop_on_error = 1L), \n  .     evaluate:::evaluate_call(expr, parsed$src[[i]], envir = envir, \n  .         enclos = enclos, debug = debug, last = i == length(out), \n  .         use_try = stop_on_error != 2L, keep_warning = keep_warning, \n  .         keep_message = keep_message, output_handler = output_handler, \n  .         include_timing = include_timing), evaluate:::timing_fn(handle(ev <- withCallingHandlers(withVisible(eval(expr, \n  .         envir, enclos)), warning = wHandler, error = eHandler, \n  .         message = mHandler))), evaluate:::handle(ev <- withCallingHandlers(withVisible(eval(expr, \n  .         envir, enclos)), warning = wHandler, error = eHandler, \n  .         message = mHandler)), base::try(f, silent = TRUE), base::tryCatch(expr, \n  .         error = function(e) {\n  .             call <- conditionCall(e)\n  .             if (!is.null(call)) {\n  .                 if (identical(call[[1L]], quote(doTryCatch))) \n  .                   call <- sys.call(-4L)\n  .                 dcall <- deparse(call)[1L]\n  .                 prefix <- paste(\"Error in\", dcall, \": \")\n  .                 LONG <- 75L\n  .                 sm <- strsplit(conditionMessage(e), \"\\n\")[[1L]]\n  .                 w <- 14L + nchar(dcall, type = \"w\") + nchar(sm[1L], \n  .                   type = \"w\")\n  .                 if (is.na(w)) \n  .                   w <- 14L + nchar(dcall, type = \"b\") + nchar(sm[1L], \n  .                     type = \"b\")\n  .                 if (w > LONG) \n  .                   prefix <- paste0(prefix, \"\\n  \")\n  .             }\n  .             else prefix <- \"Error : \"\n  .             msg <- paste0(prefix, conditionMessage(e), \"\\n\")\n  .             .Internal(seterrmessage(msg[1L]))\n  .             if (!silent && isTRUE(getOption(\"show.error.messages\"))) {\n  .                 cat(msg, file = outFile)\n  .                 .Internal(printDeferredWarnings())\n  .             }\n  .             invisible(structure(msg, class = \"try-error\", condition = e))\n  .         }), base:::tryCatchList(expr, classes, parentenv, handlers), \n  .     base:::tryCatchOne(expr, names, parentenv, handlers[[1L]]), \n  .     base:::doTryCatch(return(expr), name, parentenv, handler), \n  .     base::withCallingHandlers(withVisible(eval(expr, envir, enclos)), \n  .         warning = wHandler, error = eHandler, message = mHandler), \n  .     base::withVisible(eval(expr, envir, enclos)), base::eval(expr, \n  .         envir, enclos), base::eval(expr, envir, enclos), dataset %>% \n  .         group_by(case) %>% mutate(TimeRatio = TimeDiff/tail(TimeDiff, \n  .         n = 1), RetweetRatio = RetweetCount/tail(RetweetCount, \n  .         n = 1), Color = C52), dplyr::mutate(., TimeRatio = TimeDiff/tail(TimeDiff, \n  .         n = 1), RetweetRatio = RetweetCount/tail(RetweetCount, \n  .         n = 1), Color = C52), dplyr:::mutate.data.frame(., TimeRatio = TimeDiff/tail(TimeDiff, \n  .         n = 1), RetweetRatio = RetweetCount/tail(RetweetCount, \n  .         n = 1), Color = C52), dplyr:::mutate_cols(.data, ...), \n  .     base::withCallingHandlers({\n  .         for (i in seq_along(dots)) {\n  .             mask$across_cache_reset()\n  .             quosures <- expand_quosure(dots[[i]])\n  .             quosures_results <- vector(mode = \"list\", length = length(quosures))\n  .             for (k in seq_along(quosures)) {\n  .                 quo <- quosures[[k]]\n  .                 quo_data <- attr(quo, \"dplyr:::data\")\n  .                 context_poke(\"column\", quo_data$column)\n  .                 chunks <- NULL\n  .                 result <- NULL\n  .                 if (quo_is_symbol(quo)) {\n  .                   name <- as_string(quo_get_expr(quo))\n  .                   if (name %in% names(new_columns)) {\n  .                     result <- new_columns[[name]]\n  .                     chunks <- mask$resolve(name)\n  .                   }\n  .                   else if (name %in% names(.data)) {\n  .                     result <- .data[[name]]\n  .                     chunks <- mask$resolve(name)\n  .                   }\n  .                   if (inherits(.data, \"rowwise_df\") && vec_is_list(result)) {\n  .                     sizes <- list_sizes(result)\n  .                     wrong <- which(sizes != 1)\n  .                     if (length(wrong)) {\n  .                       group <- wrong[1L]\n  .                       mask$set_current_group(group)\n  .                       abort(x_size = sizes[group], class = \"dplyr:::mutate_incompatible_size\")\n  .                     }\n  .                   }\n  .                 }\n  .                 if (is.null(chunks)) {\n  .                   chunks <- mask$eval_all_mutate(quo)\n  .                 }\n  .                 if (is.null(chunks)) {\n  .                   next\n  .                 }\n  .                 if (is.null(result)) {\n  .                   if (length(rows) == 1) {\n  .                     result <- chunks[[1]]\n  .                   }\n  .                   else {\n  .                     result <- withCallingHandlers(vec_unchop(chunks <- vec_cast_common(!!!chunks), \n  .                       rows), vctrs_error_incompatible_type = function(cnd) {\n  .                       abort(class = \"dplyr:::error_mutate_incompatible_combine\", \n  .                         parent = cnd)\n  .                     })\n  .                   }\n  .                 }\n  .                 quosures_results[[k]] <- list(result = result, \n  .                   chunks = chunks)\n  .             }\n  .             for (k in seq_along(quosures)) {\n  .                 quo <- quosures[[k]]\n  .                 quo_data <- attr(quo, \"dplyr:::data\")\n  .                 quo_result <- quosures_results[[k]]\n  .                 if (is.null(quo_result)) {\n  .                   if (quo_data$is_named) {\n  .                     name <- quo_data$name_given\n  .                     new_columns[[name]] <- zap()\n  .                     mask$remove(name)\n  .                   }\n  .                   next\n  .                 }\n  .                 result <- quo_result$result\n  .                 chunks <- quo_result$chunks\n  .                 if (!quo_data$is_named && is.data.frame(result)) {\n  .                   new_columns[names(result)] <- result\n  .                   mask$add_many(result, chunks)\n  .                 }\n  .                 else {\n  .                   name <- quo_data$name_auto\n  .                   new_columns[[name]] <- result\n  .                   mask$add_one(name, chunks)\n  .                 }\n  .             }\n  .         }\n  .     }, error = function(e) {\n  .         local_call_step(dots = dots, .index = i, .fn = \"mutate\", \n  .             .dot_data = inherits(e, \"rlang_error_data_pronoun_not_found\"))\n  .         call_step_envir <- peek_call_step()\n  .         error_name <- call_step_envir$error_name\n  .         error_expression <- call_step_envir$error_expression\n  .         show_group_details <- TRUE\n  .         if (inherits(e, \"dplyr:::mutate_incompatible_size\")) {\n  .             size <- vec_size(rows[[mask$get_current_group()]])\n  .             x_size <- e$x_size\n  .             bullets <- c(x = glue(\"Input `{error_name}` can't be recycled to size {size}.\"), \n  .                 i = cnd_bullet_input_info(), i = glue(\"Input `{error_name}` must be size {or_1(size)}, not {x_size}.\"), \n  .                 i = cnd_bullet_rowwise_unlist())\n  .         }\n  .         else if (inherits(e, \"dplyr:::mutate_mixed_null\")) {\n  .             show_group_details <- FALSE\n  .             bullets <- c(x = glue(\"`{error_name}` must return compatible vectors across groups.\"), \n  .                 i = cnd_bullet_input_info(), i = \"Cannot combine NULL and non NULL results.\", \n  .                 i = cnd_bullet_rowwise_unlist())\n  .         }\n  .         else if (inherits(e, \"dplyr:::mutate_not_vector\")) {\n  .             bullets <- c(x = glue(\"Input `{error_name}` must be a vector, not {friendly_type_of(e$result)}.\"), \n  .                 i = cnd_bullet_input_info(), i = cnd_bullet_rowwise_unlist())\n  .         }\n  .         else if (inherits(e, \"dplyr:::error_mutate_incompatible_combine\")) {\n  .             show_group_details <- FALSE\n  .             bullets <- c(x = glue(\"Input `{error_name}` must return compatible vectors across groups\"), \n  .                 i = cnd_bullet_input_info(), i = cnd_bullet_combine_details(e$parent$x, \n  .                   e$parent$x_arg), i = cnd_bullet_combine_details(e$parent$y, \n  .                   e$parent$y_arg))\n  .         }\n  .         else {\n  .             bullets <- c(x = conditionMessage(e), i = cnd_bullet_input_info())\n  .         }\n  .         bullets <- c(cnd_bullet_header(), bullets, i = if (show_group_details) cnd_bullet_cur_group_label())\n  .         abort(bullets, class = c(\"dplyr:::mutate_error\", \"dplyr_error\"), \n  .             error_name = error_name, error_expression = error_expression, \n  .             parent = e, bullets = bullets)\n  .     }, warning = function(w) {\n  .         if (check_muffled_warning(w)) {\n  .             maybe_restart(\"muffleWarning\")\n  .         }\n  .         local_call_step(dots = dots, .index = i, .fn = \"mutate\")\n  .         warn(c(cnd_bullet_header(), i = conditionMessage(w), \n  .             i = cnd_bullet_input_info(), i = cnd_bullet_cur_group_label(what = \"warning\")))\n  .         maybe_restart(\"muffleWarning\")\n  .     }), mask$eval_all_mutate(quo), dplyr:::abort_glue(character(0), \n  .         list(x_size = 8777L), \"dplyr:::mutate_incompatible_size\"), \n  .     rlang::exec(abort, class = class, !!!data)), parents = c(0L, \n  . 1L, 2L, 3L, 4L, 5L, 6L, 7L, 6L, 9L, 10L, 4L, 12L, 13L, 13L, 15L, \n  . 16L, 17L, 18L, 19L, 13L, 13L, 13L, 23L, 0L, 0L, 0L, 27L, 28L, \n  . 28L, 0L, 31L), indices = 1:32), class = \"rlang_trace\", version = 1L), \n  .     parent = NULL, x_size = 8777L), class = c(\"dplyr:::mutate_incompatible_size\", \n  . \"rlang_error\", \"error\", \"condition\")))",
      "13. abort(bullets, class = c(\"dplyr:::mutate_error\", \"dplyr_error\"), \n  .     error_name = error_name, error_expression = error_expression, \n  .     parent = e, bullets = bullets)",
      "14. signal_abort(cnd)"
     ]
    }
   ],
   "source": [
    "#dataset %>% filter(case==2)  %>% plot((RetweetCount/tail(TimeDiff,n=1))~(TimeDiff)/tail(TimeDiff,n=1), data=., type='l')\n",
    "dataset %>% group_by(case) %>% mutate(TimeRatio = TimeDiff/tail(TimeDiff,n=1), RetweetRatio = RetweetCount/tail(RetweetCount,n=1),Color=C52)"
   ]
  },
  {
   "cell_type": "code",
   "execution_count": 108,
   "id": "funky-interim",
   "metadata": {},
   "outputs": [],
   "source": []
  },
  {
   "cell_type": "code",
   "execution_count": 104,
   "id": "entertaining-summer",
   "metadata": {},
   "outputs": [
    {
     "data": {
      "text/html": [
       "<style>\n",
       ".dl-inline {width: auto; margin:0; padding: 0}\n",
       ".dl-inline>dt, .dl-inline>dd {float: none; width: auto; display: inline-block}\n",
       ".dl-inline>dt::after {content: \":\\0020\"; padding-right: .5ex}\n",
       ".dl-inline>dt:not(:first-of-type) {padding-left: .5ex}\n",
       "</style><dl class=dl-inline><dt>NC1</dt><dd>'#F50D16'</dd><dt>NC2</dt><dd>'#0DF80D'</dd><dt>NC3</dt><dd>'#1616FC'</dd><dt>NC4</dt><dd>'#FAD1D6'</dd><dt>NC5</dt><dd>'#FC0DE2'</dd><dt>NC6</dt><dd>'#00D1FD'</dd><dt>NC7</dt><dd>'#F1E716'</dd><dt>NC8</dt><dd>'#169156'</dd><dt>NC9</dt><dd>'#A30D4B'</dd><dt>NC10</dt><dd>'#5C3B86'</dd><dt>NC11</dt><dd>'#F89400'</dd><dt>NC12</dt><dd>'#8B6900'</dd><dt>NC13</dt><dd>'#FD9FF7'</dd><dt>NC14</dt><dd>'#C816FE'</dd><dt>NC15</dt><dd>'#1CFBE6'</dd><dt>NC16</dt><dd>'#555853'</dd><dt>NC17</dt><dd>'#DAEAA7'</dd><dt>NC18</dt><dd>'#7E9AFE'</dd><dt>NC19</dt><dd>'#FB007D'</dd><dt>NC20</dt><dd>'#CACBFD'</dd><dt>NC21</dt><dd>'#00FCA2'</dd><dt>NC22</dt><dd>'#80C300'</dd><dt>NC23</dt><dd>'#D54522'</dd><dt>NC24</dt><dd>'#F6998C'</dd><dt>NC25</dt><dd>'#901C73'</dd><dt>NC26</dt><dd>'#A2D0C7'</dd><dt>NC27</dt><dd>'#FD45B4'</dd><dt>NC28</dt><dd>'#267C94'</dd><dt>NC29</dt><dd>'#A90DB5'</dd><dt>NC30</dt><dd>'#773B3D'</dd><dt>NC31</dt><dd>'#FFD47F'</dd><dt>NC32</dt><dd>'#FB88BD'</dd><dt>NC33</dt><dd>'#AA7CA3'</dd><dt>NC34</dt><dd>'#6016BC'</dd><dt>NC35</dt><dd>'#6E8622'</dd><dt>NC36</dt><dd>'#CA8AFF'</dd><dt>NC37</dt><dd>'#9DF5BB'</dd><dt>NC38</dt><dd>'#A34000'</dd><dt>NC39</dt><dd>'#A2A081'</dd><dt>NC40</dt><dd>'#D53DB6'</dd><dt>NC41</dt><dd>'#2265A9'</dd><dt>NC42</dt><dd>'#FF5F85'</dd><dt>NC43</dt><dd>'#87F0FE'</dd><dt>NC44</dt><dd>'#267D6E'</dd><dt>NC45</dt><dd>'#BD8A78'</dd><dt>NC46</dt><dd>'#00C635'</dd><dt>NC47</dt><dd>'#F256FF'</dd><dt>NC48</dt><dd>'#984FFB'</dd><dt>NC49</dt><dd>'#B0AA16'</dd><dt>NC50</dt><dd>'#CE883B'</dd><dt>NC51</dt><dd>'#9198AD'</dd><dt>NC52</dt><dd>'#FECEFB'</dd></dl>\n"
      ],
      "text/latex": [
       "\\begin{description*}\n",
       "\\item[NC1] '\\#F50D16'\n",
       "\\item[NC2] '\\#0DF80D'\n",
       "\\item[NC3] '\\#1616FC'\n",
       "\\item[NC4] '\\#FAD1D6'\n",
       "\\item[NC5] '\\#FC0DE2'\n",
       "\\item[NC6] '\\#00D1FD'\n",
       "\\item[NC7] '\\#F1E716'\n",
       "\\item[NC8] '\\#169156'\n",
       "\\item[NC9] '\\#A30D4B'\n",
       "\\item[NC10] '\\#5C3B86'\n",
       "\\item[NC11] '\\#F89400'\n",
       "\\item[NC12] '\\#8B6900'\n",
       "\\item[NC13] '\\#FD9FF7'\n",
       "\\item[NC14] '\\#C816FE'\n",
       "\\item[NC15] '\\#1CFBE6'\n",
       "\\item[NC16] '\\#555853'\n",
       "\\item[NC17] '\\#DAEAA7'\n",
       "\\item[NC18] '\\#7E9AFE'\n",
       "\\item[NC19] '\\#FB007D'\n",
       "\\item[NC20] '\\#CACBFD'\n",
       "\\item[NC21] '\\#00FCA2'\n",
       "\\item[NC22] '\\#80C300'\n",
       "\\item[NC23] '\\#D54522'\n",
       "\\item[NC24] '\\#F6998C'\n",
       "\\item[NC25] '\\#901C73'\n",
       "\\item[NC26] '\\#A2D0C7'\n",
       "\\item[NC27] '\\#FD45B4'\n",
       "\\item[NC28] '\\#267C94'\n",
       "\\item[NC29] '\\#A90DB5'\n",
       "\\item[NC30] '\\#773B3D'\n",
       "\\item[NC31] '\\#FFD47F'\n",
       "\\item[NC32] '\\#FB88BD'\n",
       "\\item[NC33] '\\#AA7CA3'\n",
       "\\item[NC34] '\\#6016BC'\n",
       "\\item[NC35] '\\#6E8622'\n",
       "\\item[NC36] '\\#CA8AFF'\n",
       "\\item[NC37] '\\#9DF5BB'\n",
       "\\item[NC38] '\\#A34000'\n",
       "\\item[NC39] '\\#A2A081'\n",
       "\\item[NC40] '\\#D53DB6'\n",
       "\\item[NC41] '\\#2265A9'\n",
       "\\item[NC42] '\\#FF5F85'\n",
       "\\item[NC43] '\\#87F0FE'\n",
       "\\item[NC44] '\\#267D6E'\n",
       "\\item[NC45] '\\#BD8A78'\n",
       "\\item[NC46] '\\#00C635'\n",
       "\\item[NC47] '\\#F256FF'\n",
       "\\item[NC48] '\\#984FFB'\n",
       "\\item[NC49] '\\#B0AA16'\n",
       "\\item[NC50] '\\#CE883B'\n",
       "\\item[NC51] '\\#9198AD'\n",
       "\\item[NC52] '\\#FECEFB'\n",
       "\\end{description*}\n"
      ],
      "text/markdown": [
       "NC1\n",
       ":   '#F50D16'NC2\n",
       ":   '#0DF80D'NC3\n",
       ":   '#1616FC'NC4\n",
       ":   '#FAD1D6'NC5\n",
       ":   '#FC0DE2'NC6\n",
       ":   '#00D1FD'NC7\n",
       ":   '#F1E716'NC8\n",
       ":   '#169156'NC9\n",
       ":   '#A30D4B'NC10\n",
       ":   '#5C3B86'NC11\n",
       ":   '#F89400'NC12\n",
       ":   '#8B6900'NC13\n",
       ":   '#FD9FF7'NC14\n",
       ":   '#C816FE'NC15\n",
       ":   '#1CFBE6'NC16\n",
       ":   '#555853'NC17\n",
       ":   '#DAEAA7'NC18\n",
       ":   '#7E9AFE'NC19\n",
       ":   '#FB007D'NC20\n",
       ":   '#CACBFD'NC21\n",
       ":   '#00FCA2'NC22\n",
       ":   '#80C300'NC23\n",
       ":   '#D54522'NC24\n",
       ":   '#F6998C'NC25\n",
       ":   '#901C73'NC26\n",
       ":   '#A2D0C7'NC27\n",
       ":   '#FD45B4'NC28\n",
       ":   '#267C94'NC29\n",
       ":   '#A90DB5'NC30\n",
       ":   '#773B3D'NC31\n",
       ":   '#FFD47F'NC32\n",
       ":   '#FB88BD'NC33\n",
       ":   '#AA7CA3'NC34\n",
       ":   '#6016BC'NC35\n",
       ":   '#6E8622'NC36\n",
       ":   '#CA8AFF'NC37\n",
       ":   '#9DF5BB'NC38\n",
       ":   '#A34000'NC39\n",
       ":   '#A2A081'NC40\n",
       ":   '#D53DB6'NC41\n",
       ":   '#2265A9'NC42\n",
       ":   '#FF5F85'NC43\n",
       ":   '#87F0FE'NC44\n",
       ":   '#267D6E'NC45\n",
       ":   '#BD8A78'NC46\n",
       ":   '#00C635'NC47\n",
       ":   '#F256FF'NC48\n",
       ":   '#984FFB'NC49\n",
       ":   '#B0AA16'NC50\n",
       ":   '#CE883B'NC51\n",
       ":   '#9198AD'NC52\n",
       ":   '#FECEFB'\n",
       "\n"
      ],
      "text/plain": [
       "      NC1       NC2       NC3       NC4       NC5       NC6       NC7       NC8 \n",
       "\"#F50D16\" \"#0DF80D\" \"#1616FC\" \"#FAD1D6\" \"#FC0DE2\" \"#00D1FD\" \"#F1E716\" \"#169156\" \n",
       "      NC9      NC10      NC11      NC12      NC13      NC14      NC15      NC16 \n",
       "\"#A30D4B\" \"#5C3B86\" \"#F89400\" \"#8B6900\" \"#FD9FF7\" \"#C816FE\" \"#1CFBE6\" \"#555853\" \n",
       "     NC17      NC18      NC19      NC20      NC21      NC22      NC23      NC24 \n",
       "\"#DAEAA7\" \"#7E9AFE\" \"#FB007D\" \"#CACBFD\" \"#00FCA2\" \"#80C300\" \"#D54522\" \"#F6998C\" \n",
       "     NC25      NC26      NC27      NC28      NC29      NC30      NC31      NC32 \n",
       "\"#901C73\" \"#A2D0C7\" \"#FD45B4\" \"#267C94\" \"#A90DB5\" \"#773B3D\" \"#FFD47F\" \"#FB88BD\" \n",
       "     NC33      NC34      NC35      NC36      NC37      NC38      NC39      NC40 \n",
       "\"#AA7CA3\" \"#6016BC\" \"#6E8622\" \"#CA8AFF\" \"#9DF5BB\" \"#A34000\" \"#A2A081\" \"#D53DB6\" \n",
       "     NC41      NC42      NC43      NC44      NC45      NC46      NC47      NC48 \n",
       "\"#2265A9\" \"#FF5F85\" \"#87F0FE\" \"#267D6E\" \"#BD8A78\" \"#00C635\" \"#F256FF\" \"#984FFB\" \n",
       "     NC49      NC50      NC51      NC52 \n",
       "\"#B0AA16\" \"#CE883B\" \"#9198AD\" \"#FECEFB\" "
      ]
     },
     "metadata": {},
     "output_type": "display_data"
    }
   ],
   "source": [
    "\n",
    "\n",
    "# create your own color palette based on `seedcolors`\n",
    "\n",
    "#swatch(P36)\n",
    "C52"
   ]
  },
  {
   "cell_type": "code",
   "execution_count": 117,
   "id": "applicable-landing",
   "metadata": {},
   "outputs": [
    {
     "ename": "ERROR",
     "evalue": "Error in eval(expr, envir, enclos): object 'color' not found\n",
     "output_type": "error",
     "traceback": [
      "Error in eval(expr, envir, enclos): object 'color' not found\nTraceback:\n"
     ]
    }
   ],
   "source": [
    "color"
   ]
  },
  {
   "cell_type": "code",
   "execution_count": 157,
   "id": "refined-update",
   "metadata": {},
   "outputs": [
    {
     "data": {
      "image/png": "[encoded data removed]",
      "text/plain": [
       "plot without title"
      ]
     },
     "metadata": {
      "image/png": {
       "height": 480,
       "width": 900
      }
     },
     "output_type": "display_data"
    }
   ],
   "source": [
    "options(repr.plot.width=15, repr.plot.height=8)\n",
    "dataset %>% group_by(case) %>% \n",
    "    mutate(TimeRatio = TimeDiff/tail(TimeDiff,n=1), RetweetRatio = RetweetCount/tail(RetweetCount,n=1)) %>% \n",
    "    ggplot(aes(y= RetweetRatio, x=TimeRatio,col=color)) +\n",
    "    geom_line() +\n",
    "    theme(legend.position = \"none\") +\n",
    "    geom_vline(xintercept = .4)\n",
    "\n"
   ]
  },
  {
   "cell_type": "code",
   "execution_count": 158,
   "id": "comparable-angel",
   "metadata": {},
   "outputs": [
    {
     "ename": "ERROR",
     "evalue": "Error: Problem with `filter()` input `..1`.\n\u001b[31mx\u001b[39m Input `..1` is named.\n\u001b[34mi\u001b[39m This usually means that you've used `=` instead of `==`.\n\u001b[34mi\u001b[39m Did you mean `case == 1`?\n",
     "output_type": "error",
     "traceback": [
      "Error: Problem with `filter()` input `..1`.\n\u001b[31mx\u001b[39m Input `..1` is named.\n\u001b[34mi\u001b[39m This usually means that you've used `=` instead of `==`.\n\u001b[34mi\u001b[39m Did you mean `case == 1`?\nTraceback:\n",
      "1. dataset %>% filter(case = 1)",
      "2. filter(., case = 1)",
      "3. filter.data.frame(., case = 1)",
      "4. filter_rows(.data, ...)",
      "5. check_filter(enquos(...))",
      "6. abort(c(glue(\"Problem with `filter()` input `..{i}`.\"), x = glue(\"Input `..{i}` is named.\"), \n .     i = glue(\"This usually means that you've used `=` instead of `==`.\"), \n .     i = glue(\"Did you mean `{name} == {as_label(expr)}`?\", name = names(dots)[i])))",
      "7. signal_abort(cnd)"
     ]
    }
   ],
   "source": [
    "dataset %>% filter(case=1)"
   ]
  },
  {
   "cell_type": "code",
   "execution_count": 30,
   "id": "center-happiness",
   "metadata": {},
   "outputs": [],
   "source": [
    "t = sapply(strsplit(t, \", \"), \"[\", 2)"
   ]
  },
  {
   "cell_type": "code",
   "execution_count": 169,
   "id": "wicked-amateur",
   "metadata": {},
   "outputs": [
    {
     "data": {
      "text/html": [
       "<table class=\"dataframe\">\n",
       "<caption>A data.table: 8777 × 9</caption>\n",
       "<thead>\n",
       "\t<tr><th scope=col>RetweetCount</th><th scope=col>UserId</th><th scope=col>ScreenName</th><th scope=col>FollowerCount</th><th scope=col>DistanceFromRoot</th><th scope=col>ParentScreenName</th><th scope=col>TimeDiff</th><th scope=col>response</th><th scope=col>case</th></tr>\n",
       "\t<tr><th scope=col>&lt;int&gt;</th><th scope=col>&lt;chr&gt;</th><th scope=col>&lt;chr&gt;</th><th scope=col>&lt;chr&gt;</th><th scope=col>&lt;int&gt;</th><th scope=col>&lt;chr&gt;</th><th scope=col>&lt;dbl&gt;</th><th scope=col>&lt;int&gt;</th><th scope=col>&lt;dbl&gt;</th></tr>\n",
       "</thead>\n",
       "<tbody>\n",
       "\t<tr><td> 0</td><td>158426909</td><td>Lawrence       </td><td>87039</td><td>0</td><td>Lawrence      </td><td>  0.0000000</td><td>20</td><td>1</td></tr>\n",
       "\t<tr><td> 2</td><td>377745103</td><td>EleanorWhitel  </td><td>444  </td><td>1</td><td>Lawrence      </td><td>  0.5000000</td><td>NA</td><td>1</td></tr>\n",
       "\t<tr><td> 4</td><td>61341105 </td><td>theblkpanther52</td><td>235  </td><td>1</td><td>Lawrence      </td><td>  2.1833333</td><td>NA</td><td>1</td></tr>\n",
       "\t<tr><td> 6</td><td>126269760</td><td>ScottBaglee    </td><td>52   </td><td>1</td><td>Lawrence      </td><td>  2.8666667</td><td>NA</td><td>1</td></tr>\n",
       "\t<tr><td> 8</td><td>16730860 </td><td>dgershwin      </td><td>415  </td><td>1</td><td>Lawrence      </td><td> 11.0833333</td><td>NA</td><td>1</td></tr>\n",
       "\t<tr><td>10</td><td>325210048</td><td>4JDJD          </td><td>7    </td><td>1</td><td>Lawrence      </td><td> 21.1833333</td><td>NA</td><td>1</td></tr>\n",
       "\t<tr><td>12</td><td>37338752 </td><td>Konstantine116 </td><td>38   </td><td>1</td><td>Lawrence      </td><td> 30.6333333</td><td>NA</td><td>1</td></tr>\n",
       "\t<tr><td>14</td><td>103720918</td><td>Destinyuhv     </td><td>512  </td><td>1</td><td>Lawrence      </td><td> 40.7666667</td><td>NA</td><td>1</td></tr>\n",
       "\t<tr><td>16</td><td>493371884</td><td>Blake_Tindle   </td><td>51   </td><td>1</td><td>Lawrence      </td><td> 64.5333333</td><td>NA</td><td>1</td></tr>\n",
       "\t<tr><td>18</td><td>22300902 </td><td>NeoRenfield    </td><td>2559 </td><td>1</td><td>Lawrence      </td><td>144.8333333</td><td>NA</td><td>1</td></tr>\n",
       "\t<tr><td>20</td><td>37725640 </td><td>TalkinToU      </td><td>2030 </td><td>1</td><td>Lawrence      </td><td>224.3000000</td><td>NA</td><td>1</td></tr>\n",
       "\t<tr><td> 0</td><td>164412502</td><td>pbsgwen        </td><td>23673</td><td>0</td><td>pbsgwen       </td><td>  0.0000000</td><td>23</td><td>2</td></tr>\n",
       "\t<tr><td> 1</td><td>13367172 </td><td>shani_o        </td><td>2030 </td><td>1</td><td>pbsgwen       </td><td>  0.2166667</td><td>NA</td><td>2</td></tr>\n",
       "\t<tr><td> 2</td><td>185747652</td><td>edenWXIA       </td><td>928  </td><td>1</td><td>pbsgwen       </td><td>  0.6000000</td><td>NA</td><td>2</td></tr>\n",
       "\t<tr><td> 3</td><td>21728303 </td><td>keithboykin    </td><td>8048 </td><td>1</td><td>pbsgwen       </td><td>  1.4666667</td><td>NA</td><td>2</td></tr>\n",
       "\t<tr><td> 4</td><td>26589498 </td><td>drugmonkeyblog </td><td>1987 </td><td>1</td><td>pbsgwen       </td><td>  2.6666667</td><td>NA</td><td>2</td></tr>\n",
       "\t<tr><td> 5</td><td>499894426</td><td>neivet2        </td><td>23   </td><td>1</td><td>pbsgwen       </td><td>  3.2333333</td><td>NA</td><td>2</td></tr>\n",
       "\t<tr><td> 6</td><td>442649949</td><td>WillDarrell    </td><td>22   </td><td>1</td><td>pbsgwen       </td><td>  3.3666667</td><td>NA</td><td>2</td></tr>\n",
       "\t<tr><td> 7</td><td>477450920</td><td>AdamSmithereens</td><td>11   </td><td>1</td><td>pbsgwen       </td><td>  3.6166667</td><td>NA</td><td>2</td></tr>\n",
       "\t<tr><td> 8</td><td>18397364 </td><td>KyleYounger    </td><td>592  </td><td>1</td><td>pbsgwen       </td><td>  4.6666667</td><td>NA</td><td>2</td></tr>\n",
       "\t<tr><td> 9</td><td>309190582</td><td>JustCouch      </td><td>306  </td><td>1</td><td>pbsgwen       </td><td>  5.7000000</td><td>NA</td><td>2</td></tr>\n",
       "\t<tr><td>10</td><td>33230785 </td><td>gagolfmom      </td><td>65   </td><td>1</td><td>pbsgwen       </td><td>  6.2000000</td><td>NA</td><td>2</td></tr>\n",
       "\t<tr><td>11</td><td>20828187 </td><td>kingofva       </td><td>138  </td><td>1</td><td>pbsgwen       </td><td>  7.2333333</td><td>NA</td><td>2</td></tr>\n",
       "\t<tr><td>12</td><td>14299153 </td><td>paulwester     </td><td>120  </td><td>1</td><td>pbsgwen       </td><td> 15.3500000</td><td>NA</td><td>2</td></tr>\n",
       "\t<tr><td>13</td><td>326255267</td><td>BuzzFeedAndrew </td><td>17292</td><td>1</td><td>pbsgwen       </td><td> 18.4833333</td><td>NA</td><td>2</td></tr>\n",
       "\t<tr><td>14</td><td>7764332  </td><td>_mikehayes     </td><td>3195 </td><td>2</td><td>BuzzFeedAndrew</td><td> 18.7500000</td><td>NA</td><td>2</td></tr>\n",
       "\t<tr><td>15</td><td>196935951</td><td>blk_dahlia2    </td><td>218  </td><td>1</td><td>pbsgwen       </td><td> 19.5000000</td><td>NA</td><td>2</td></tr>\n",
       "\t<tr><td>16</td><td>16868444 </td><td>sevenlayercake </td><td>808  </td><td>2</td><td>BuzzFeedAndrew</td><td> 21.0500000</td><td>NA</td><td>2</td></tr>\n",
       "\t<tr><td>17</td><td>65655621 </td><td>SKazViews      </td><td>1657 </td><td>1</td><td>pbsgwen       </td><td> 23.3833333</td><td>NA</td><td>2</td></tr>\n",
       "\t<tr><td>18</td><td>38372321 </td><td>lovelyallen    </td><td>184  </td><td>1</td><td>pbsgwen       </td><td> 26.2333333</td><td>NA</td><td>2</td></tr>\n",
       "\t<tr><td>...</td><td>...</td><td>...</td><td>...</td><td>...</td><td>...</td><td>...</td><td>...</td><td>...</td></tr>\n",
       "\t<tr><td>1231</td><td>106652486</td><td>ASOM_831       </td><td>267 </td><td>1</td><td>TheRock</td><td>202.7333</td><td>NA</td><td>52</td></tr>\n",
       "\t<tr><td>1232</td><td>19406375 </td><td>beardofprey    </td><td>180 </td><td>1</td><td>TheRock</td><td>202.8667</td><td>NA</td><td>52</td></tr>\n",
       "\t<tr><td>1233</td><td>309763542</td><td>hrqueenmonique </td><td>34  </td><td>1</td><td>TheRock</td><td>209.1833</td><td>NA</td><td>52</td></tr>\n",
       "\t<tr><td>1234</td><td>368701712</td><td>wwegirlashley23</td><td>1   </td><td>1</td><td>TheRock</td><td>210.2000</td><td>NA</td><td>52</td></tr>\n",
       "\t<tr><td>1235</td><td>236207452</td><td>ofynnnnn       </td><td>504 </td><td>1</td><td>TheRock</td><td>211.9667</td><td>NA</td><td>52</td></tr>\n",
       "\t<tr><td>1236</td><td>459683319</td><td>Caraxander     </td><td>45  </td><td>1</td><td>TheRock</td><td>212.3000</td><td>NA</td><td>52</td></tr>\n",
       "\t<tr><td>1237</td><td>148515854</td><td>BestLookingSin </td><td>142 </td><td>1</td><td>TheRock</td><td>213.9000</td><td>NA</td><td>52</td></tr>\n",
       "\t<tr><td>1238</td><td>194185049</td><td>McCoolMFan4ever</td><td>3121</td><td>1</td><td>TheRock</td><td>214.7500</td><td>NA</td><td>52</td></tr>\n",
       "\t<tr><td>1239</td><td>35498810 </td><td>theuniquemusic </td><td>664 </td><td>1</td><td>TheRock</td><td>215.9667</td><td>NA</td><td>52</td></tr>\n",
       "\t<tr><td>1240</td><td>259542338</td><td>msymsick17     </td><td>88  </td><td>1</td><td>TheRock</td><td>216.0500</td><td>NA</td><td>52</td></tr>\n",
       "\t<tr><td>1241</td><td>28855218 </td><td>daVinci70      </td><td>216 </td><td>1</td><td>TheRock</td><td>216.1000</td><td>NA</td><td>52</td></tr>\n",
       "\t<tr><td>1242</td><td>260450609</td><td>Emajay3        </td><td>9   </td><td>1</td><td>TheRock</td><td>221.7333</td><td>NA</td><td>52</td></tr>\n",
       "\t<tr><td>1243</td><td>306225200</td><td>BigShannon79   </td><td>115 </td><td>1</td><td>TheRock</td><td>224.5000</td><td>NA</td><td>52</td></tr>\n",
       "\t<tr><td>1244</td><td>204211334</td><td>1TheRockHHH    </td><td>1005</td><td>1</td><td>TheRock</td><td>225.0167</td><td>NA</td><td>52</td></tr>\n",
       "\t<tr><td>1245</td><td>255877163</td><td>neilski442     </td><td>23  </td><td>1</td><td>TheRock</td><td>225.4333</td><td>NA</td><td>52</td></tr>\n",
       "\t<tr><td>1246</td><td>370289942</td><td>Fabinaustin    </td><td>1   </td><td>1</td><td>TheRock</td><td>225.7833</td><td>NA</td><td>52</td></tr>\n",
       "\t<tr><td>1247</td><td>381703517</td><td>MzTejada       </td><td>166 </td><td>1</td><td>TheRock</td><td>227.5000</td><td>NA</td><td>52</td></tr>\n",
       "\t<tr><td>1248</td><td>245064831</td><td>JoDaddy510     </td><td>41  </td><td>1</td><td>TheRock</td><td>227.8167</td><td>NA</td><td>52</td></tr>\n",
       "\t<tr><td>1249</td><td>72851754 </td><td>edribotha      </td><td>458 </td><td>1</td><td>TheRock</td><td>230.5500</td><td>NA</td><td>52</td></tr>\n",
       "\t<tr><td>1250</td><td>553722803</td><td>Lolo__C        </td><td>8   </td><td>1</td><td>TheRock</td><td>233.7167</td><td>NA</td><td>52</td></tr>\n",
       "\t<tr><td>1251</td><td>554328056</td><td>wweamit        </td><td>66  </td><td>1</td><td>TheRock</td><td>237.4167</td><td>NA</td><td>52</td></tr>\n",
       "\t<tr><td>1252</td><td>486768042</td><td>ramonwwefan    </td><td>6   </td><td>1</td><td>TheRock</td><td>239.4167</td><td>NA</td><td>52</td></tr>\n",
       "\t<tr><td>1253</td><td>527688254</td><td>AlexxxSanchezzz</td><td>4   </td><td>1</td><td>TheRock</td><td>240.0167</td><td>NA</td><td>52</td></tr>\n",
       "\t<tr><td>1254</td><td>552184141</td><td>AliciaOrtega18 </td><td>7   </td><td>1</td><td>TheRock</td><td>240.4500</td><td>NA</td><td>52</td></tr>\n",
       "\t<tr><td>1255</td><td>194231484</td><td>Snuka7799      </td><td>3   </td><td>1</td><td>TheRock</td><td>242.4333</td><td>NA</td><td>52</td></tr>\n",
       "\t<tr><td>1256</td><td>65230941 </td><td>KingFrankk     </td><td>99  </td><td>1</td><td>TheRock</td><td>243.6667</td><td>NA</td><td>52</td></tr>\n",
       "\t<tr><td>1257</td><td>250250870</td><td>ladysdsandiego </td><td>231 </td><td>1</td><td>TheRock</td><td>243.8833</td><td>NA</td><td>52</td></tr>\n",
       "\t<tr><td>1258</td><td>38330186 </td><td>personunknown  </td><td>125 </td><td>1</td><td>TheRock</td><td>248.8167</td><td>NA</td><td>52</td></tr>\n",
       "\t<tr><td>1259</td><td>553751422</td><td>devontesexsyboy</td><td>1   </td><td>1</td><td>TheRock</td><td>248.9667</td><td>NA</td><td>52</td></tr>\n",
       "\t<tr><td>1260</td><td>111830735</td><td>beekay_5       </td><td>76  </td><td>1</td><td>TheRock</td><td>250.2833</td><td>NA</td><td>52</td></tr>\n",
       "</tbody>\n",
       "</table>\n"
      ],
      "text/latex": [
       "A data.table: 8777 × 9\n",
       "\\begin{tabular}{lllllllll}\n",
       " RetweetCount & UserId & ScreenName & FollowerCount & DistanceFromRoot & ParentScreenName & TimeDiff & response & case\\\\\n",
       " <int> & <chr> & <chr> & <chr> & <int> & <chr> & <dbl> & <int> & <dbl>\\\\\n",
       "\\hline\n",
       "\t  0 & 158426909 & Lawrence        & 87039 & 0 & Lawrence       &   0.0000000 & 20 & 1\\\\\n",
       "\t  2 & 377745103 & EleanorWhitel   & 444   & 1 & Lawrence       &   0.5000000 & NA & 1\\\\\n",
       "\t  4 & 61341105  & theblkpanther52 & 235   & 1 & Lawrence       &   2.1833333 & NA & 1\\\\\n",
       "\t  6 & 126269760 & ScottBaglee     & 52    & 1 & Lawrence       &   2.8666667 & NA & 1\\\\\n",
       "\t  8 & 16730860  & dgershwin       & 415   & 1 & Lawrence       &  11.0833333 & NA & 1\\\\\n",
       "\t 10 & 325210048 & 4JDJD           & 7     & 1 & Lawrence       &  21.1833333 & NA & 1\\\\\n",
       "\t 12 & 37338752  & Konstantine116  & 38    & 1 & Lawrence       &  30.6333333 & NA & 1\\\\\n",
       "\t 14 & 103720918 & Destinyuhv      & 512   & 1 & Lawrence       &  40.7666667 & NA & 1\\\\\n",
       "\t 16 & 493371884 & Blake\\_Tindle    & 51    & 1 & Lawrence       &  64.5333333 & NA & 1\\\\\n",
       "\t 18 & 22300902  & NeoRenfield     & 2559  & 1 & Lawrence       & 144.8333333 & NA & 1\\\\\n",
       "\t 20 & 37725640  & TalkinToU       & 2030  & 1 & Lawrence       & 224.3000000 & NA & 1\\\\\n",
       "\t  0 & 164412502 & pbsgwen         & 23673 & 0 & pbsgwen        &   0.0000000 & 23 & 2\\\\\n",
       "\t  1 & 13367172  & shani\\_o         & 2030  & 1 & pbsgwen        &   0.2166667 & NA & 2\\\\\n",
       "\t  2 & 185747652 & edenWXIA        & 928   & 1 & pbsgwen        &   0.6000000 & NA & 2\\\\\n",
       "\t  3 & 21728303  & keithboykin     & 8048  & 1 & pbsgwen        &   1.4666667 & NA & 2\\\\\n",
       "\t  4 & 26589498  & drugmonkeyblog  & 1987  & 1 & pbsgwen        &   2.6666667 & NA & 2\\\\\n",
       "\t  5 & 499894426 & neivet2         & 23    & 1 & pbsgwen        &   3.2333333 & NA & 2\\\\\n",
       "\t  6 & 442649949 & WillDarrell     & 22    & 1 & pbsgwen        &   3.3666667 & NA & 2\\\\\n",
       "\t  7 & 477450920 & AdamSmithereens & 11    & 1 & pbsgwen        &   3.6166667 & NA & 2\\\\\n",
       "\t  8 & 18397364  & KyleYounger     & 592   & 1 & pbsgwen        &   4.6666667 & NA & 2\\\\\n",
       "\t  9 & 309190582 & JustCouch       & 306   & 1 & pbsgwen        &   5.7000000 & NA & 2\\\\\n",
       "\t 10 & 33230785  & gagolfmom       & 65    & 1 & pbsgwen        &   6.2000000 & NA & 2\\\\\n",
       "\t 11 & 20828187  & kingofva        & 138   & 1 & pbsgwen        &   7.2333333 & NA & 2\\\\\n",
       "\t 12 & 14299153  & paulwester      & 120   & 1 & pbsgwen        &  15.3500000 & NA & 2\\\\\n",
       "\t 13 & 326255267 & BuzzFeedAndrew  & 17292 & 1 & pbsgwen        &  18.4833333 & NA & 2\\\\\n",
       "\t 14 & 7764332   & \\_mikehayes      & 3195  & 2 & BuzzFeedAndrew &  18.7500000 & NA & 2\\\\\n",
       "\t 15 & 196935951 & blk\\_dahlia2     & 218   & 1 & pbsgwen        &  19.5000000 & NA & 2\\\\\n",
       "\t 16 & 16868444  & sevenlayercake  & 808   & 2 & BuzzFeedAndrew &  21.0500000 & NA & 2\\\\\n",
       "\t 17 & 65655621  & SKazViews       & 1657  & 1 & pbsgwen        &  23.3833333 & NA & 2\\\\\n",
       "\t 18 & 38372321  & lovelyallen     & 184   & 1 & pbsgwen        &  26.2333333 & NA & 2\\\\\n",
       "\t ... & ... & ... & ... & ... & ... & ... & ... & ...\\\\\n",
       "\t 1231 & 106652486 & ASOM\\_831        & 267  & 1 & TheRock & 202.7333 & NA & 52\\\\\n",
       "\t 1232 & 19406375  & beardofprey     & 180  & 1 & TheRock & 202.8667 & NA & 52\\\\\n",
       "\t 1233 & 309763542 & hrqueenmonique  & 34   & 1 & TheRock & 209.1833 & NA & 52\\\\\n",
       "\t 1234 & 368701712 & wwegirlashley23 & 1    & 1 & TheRock & 210.2000 & NA & 52\\\\\n",
       "\t 1235 & 236207452 & ofynnnnn        & 504  & 1 & TheRock & 211.9667 & NA & 52\\\\\n",
       "\t 1236 & 459683319 & Caraxander      & 45   & 1 & TheRock & 212.3000 & NA & 52\\\\\n",
       "\t 1237 & 148515854 & BestLookingSin  & 142  & 1 & TheRock & 213.9000 & NA & 52\\\\\n",
       "\t 1238 & 194185049 & McCoolMFan4ever & 3121 & 1 & TheRock & 214.7500 & NA & 52\\\\\n",
       "\t 1239 & 35498810  & theuniquemusic  & 664  & 1 & TheRock & 215.9667 & NA & 52\\\\\n",
       "\t 1240 & 259542338 & msymsick17      & 88   & 1 & TheRock & 216.0500 & NA & 52\\\\\n",
       "\t 1241 & 28855218  & daVinci70       & 216  & 1 & TheRock & 216.1000 & NA & 52\\\\\n",
       "\t 1242 & 260450609 & Emajay3         & 9    & 1 & TheRock & 221.7333 & NA & 52\\\\\n",
       "\t 1243 & 306225200 & BigShannon79    & 115  & 1 & TheRock & 224.5000 & NA & 52\\\\\n",
       "\t 1244 & 204211334 & 1TheRockHHH     & 1005 & 1 & TheRock & 225.0167 & NA & 52\\\\\n",
       "\t 1245 & 255877163 & neilski442      & 23   & 1 & TheRock & 225.4333 & NA & 52\\\\\n",
       "\t 1246 & 370289942 & Fabinaustin     & 1    & 1 & TheRock & 225.7833 & NA & 52\\\\\n",
       "\t 1247 & 381703517 & MzTejada        & 166  & 1 & TheRock & 227.5000 & NA & 52\\\\\n",
       "\t 1248 & 245064831 & JoDaddy510      & 41   & 1 & TheRock & 227.8167 & NA & 52\\\\\n",
       "\t 1249 & 72851754  & edribotha       & 458  & 1 & TheRock & 230.5500 & NA & 52\\\\\n",
       "\t 1250 & 553722803 & Lolo\\_\\_C         & 8    & 1 & TheRock & 233.7167 & NA & 52\\\\\n",
       "\t 1251 & 554328056 & wweamit         & 66   & 1 & TheRock & 237.4167 & NA & 52\\\\\n",
       "\t 1252 & 486768042 & ramonwwefan     & 6    & 1 & TheRock & 239.4167 & NA & 52\\\\\n",
       "\t 1253 & 527688254 & AlexxxSanchezzz & 4    & 1 & TheRock & 240.0167 & NA & 52\\\\\n",
       "\t 1254 & 552184141 & AliciaOrtega18  & 7    & 1 & TheRock & 240.4500 & NA & 52\\\\\n",
       "\t 1255 & 194231484 & Snuka7799       & 3    & 1 & TheRock & 242.4333 & NA & 52\\\\\n",
       "\t 1256 & 65230941  & KingFrankk      & 99   & 1 & TheRock & 243.6667 & NA & 52\\\\\n",
       "\t 1257 & 250250870 & ladysdsandiego  & 231  & 1 & TheRock & 243.8833 & NA & 52\\\\\n",
       "\t 1258 & 38330186  & personunknown   & 125  & 1 & TheRock & 248.8167 & NA & 52\\\\\n",
       "\t 1259 & 553751422 & devontesexsyboy & 1    & 1 & TheRock & 248.9667 & NA & 52\\\\\n",
       "\t 1260 & 111830735 & beekay\\_5        & 76   & 1 & TheRock & 250.2833 & NA & 52\\\\\n",
       "\\end{tabular}\n"
      ],
      "text/markdown": [
       "\n",
       "A data.table: 8777 × 9\n",
       "\n",
       "| RetweetCount &lt;int&gt; | UserId &lt;chr&gt; | ScreenName &lt;chr&gt; | FollowerCount &lt;chr&gt; | DistanceFromRoot &lt;int&gt; | ParentScreenName &lt;chr&gt; | TimeDiff &lt;dbl&gt; | response &lt;int&gt; | case &lt;dbl&gt; |\n",
       "|---|---|---|---|---|---|---|---|---|\n",
       "|  0 | 158426909 | Lawrence        | 87039 | 0 | Lawrence       |   0.0000000 | 20 | 1 |\n",
       "|  2 | 377745103 | EleanorWhitel   | 444   | 1 | Lawrence       |   0.5000000 | NA | 1 |\n",
       "|  4 | 61341105  | theblkpanther52 | 235   | 1 | Lawrence       |   2.1833333 | NA | 1 |\n",
       "|  6 | 126269760 | ScottBaglee     | 52    | 1 | Lawrence       |   2.8666667 | NA | 1 |\n",
       "|  8 | 16730860  | dgershwin       | 415   | 1 | Lawrence       |  11.0833333 | NA | 1 |\n",
       "| 10 | 325210048 | 4JDJD           | 7     | 1 | Lawrence       |  21.1833333 | NA | 1 |\n",
       "| 12 | 37338752  | Konstantine116  | 38    | 1 | Lawrence       |  30.6333333 | NA | 1 |\n",
       "| 14 | 103720918 | Destinyuhv      | 512   | 1 | Lawrence       |  40.7666667 | NA | 1 |\n",
       "| 16 | 493371884 | Blake_Tindle    | 51    | 1 | Lawrence       |  64.5333333 | NA | 1 |\n",
       "| 18 | 22300902  | NeoRenfield     | 2559  | 1 | Lawrence       | 144.8333333 | NA | 1 |\n",
       "| 20 | 37725640  | TalkinToU       | 2030  | 1 | Lawrence       | 224.3000000 | NA | 1 |\n",
       "|  0 | 164412502 | pbsgwen         | 23673 | 0 | pbsgwen        |   0.0000000 | 23 | 2 |\n",
       "|  1 | 13367172  | shani_o         | 2030  | 1 | pbsgwen        |   0.2166667 | NA | 2 |\n",
       "|  2 | 185747652 | edenWXIA        | 928   | 1 | pbsgwen        |   0.6000000 | NA | 2 |\n",
       "|  3 | 21728303  | keithboykin     | 8048  | 1 | pbsgwen        |   1.4666667 | NA | 2 |\n",
       "|  4 | 26589498  | drugmonkeyblog  | 1987  | 1 | pbsgwen        |   2.6666667 | NA | 2 |\n",
       "|  5 | 499894426 | neivet2         | 23    | 1 | pbsgwen        |   3.2333333 | NA | 2 |\n",
       "|  6 | 442649949 | WillDarrell     | 22    | 1 | pbsgwen        |   3.3666667 | NA | 2 |\n",
       "|  7 | 477450920 | AdamSmithereens | 11    | 1 | pbsgwen        |   3.6166667 | NA | 2 |\n",
       "|  8 | 18397364  | KyleYounger     | 592   | 1 | pbsgwen        |   4.6666667 | NA | 2 |\n",
       "|  9 | 309190582 | JustCouch       | 306   | 1 | pbsgwen        |   5.7000000 | NA | 2 |\n",
       "| 10 | 33230785  | gagolfmom       | 65    | 1 | pbsgwen        |   6.2000000 | NA | 2 |\n",
       "| 11 | 20828187  | kingofva        | 138   | 1 | pbsgwen        |   7.2333333 | NA | 2 |\n",
       "| 12 | 14299153  | paulwester      | 120   | 1 | pbsgwen        |  15.3500000 | NA | 2 |\n",
       "| 13 | 326255267 | BuzzFeedAndrew  | 17292 | 1 | pbsgwen        |  18.4833333 | NA | 2 |\n",
       "| 14 | 7764332   | _mikehayes      | 3195  | 2 | BuzzFeedAndrew |  18.7500000 | NA | 2 |\n",
       "| 15 | 196935951 | blk_dahlia2     | 218   | 1 | pbsgwen        |  19.5000000 | NA | 2 |\n",
       "| 16 | 16868444  | sevenlayercake  | 808   | 2 | BuzzFeedAndrew |  21.0500000 | NA | 2 |\n",
       "| 17 | 65655621  | SKazViews       | 1657  | 1 | pbsgwen        |  23.3833333 | NA | 2 |\n",
       "| 18 | 38372321  | lovelyallen     | 184   | 1 | pbsgwen        |  26.2333333 | NA | 2 |\n",
       "| ... | ... | ... | ... | ... | ... | ... | ... | ... |\n",
       "| 1231 | 106652486 | ASOM_831        | 267  | 1 | TheRock | 202.7333 | NA | 52 |\n",
       "| 1232 | 19406375  | beardofprey     | 180  | 1 | TheRock | 202.8667 | NA | 52 |\n",
       "| 1233 | 309763542 | hrqueenmonique  | 34   | 1 | TheRock | 209.1833 | NA | 52 |\n",
       "| 1234 | 368701712 | wwegirlashley23 | 1    | 1 | TheRock | 210.2000 | NA | 52 |\n",
       "| 1235 | 236207452 | ofynnnnn        | 504  | 1 | TheRock | 211.9667 | NA | 52 |\n",
       "| 1236 | 459683319 | Caraxander      | 45   | 1 | TheRock | 212.3000 | NA | 52 |\n",
       "| 1237 | 148515854 | BestLookingSin  | 142  | 1 | TheRock | 213.9000 | NA | 52 |\n",
       "| 1238 | 194185049 | McCoolMFan4ever | 3121 | 1 | TheRock | 214.7500 | NA | 52 |\n",
       "| 1239 | 35498810  | theuniquemusic  | 664  | 1 | TheRock | 215.9667 | NA | 52 |\n",
       "| 1240 | 259542338 | msymsick17      | 88   | 1 | TheRock | 216.0500 | NA | 52 |\n",
       "| 1241 | 28855218  | daVinci70       | 216  | 1 | TheRock | 216.1000 | NA | 52 |\n",
       "| 1242 | 260450609 | Emajay3         | 9    | 1 | TheRock | 221.7333 | NA | 52 |\n",
       "| 1243 | 306225200 | BigShannon79    | 115  | 1 | TheRock | 224.5000 | NA | 52 |\n",
       "| 1244 | 204211334 | 1TheRockHHH     | 1005 | 1 | TheRock | 225.0167 | NA | 52 |\n",
       "| 1245 | 255877163 | neilski442      | 23   | 1 | TheRock | 225.4333 | NA | 52 |\n",
       "| 1246 | 370289942 | Fabinaustin     | 1    | 1 | TheRock | 225.7833 | NA | 52 |\n",
       "| 1247 | 381703517 | MzTejada        | 166  | 1 | TheRock | 227.5000 | NA | 52 |\n",
       "| 1248 | 245064831 | JoDaddy510      | 41   | 1 | TheRock | 227.8167 | NA | 52 |\n",
       "| 1249 | 72851754  | edribotha       | 458  | 1 | TheRock | 230.5500 | NA | 52 |\n",
       "| 1250 | 553722803 | Lolo__C         | 8    | 1 | TheRock | 233.7167 | NA | 52 |\n",
       "| 1251 | 554328056 | wweamit         | 66   | 1 | TheRock | 237.4167 | NA | 52 |\n",
       "| 1252 | 486768042 | ramonwwefan     | 6    | 1 | TheRock | 239.4167 | NA | 52 |\n",
       "| 1253 | 527688254 | AlexxxSanchezzz | 4    | 1 | TheRock | 240.0167 | NA | 52 |\n",
       "| 1254 | 552184141 | AliciaOrtega18  | 7    | 1 | TheRock | 240.4500 | NA | 52 |\n",
       "| 1255 | 194231484 | Snuka7799       | 3    | 1 | TheRock | 242.4333 | NA | 52 |\n",
       "| 1256 | 65230941  | KingFrankk      | 99   | 1 | TheRock | 243.6667 | NA | 52 |\n",
       "| 1257 | 250250870 | ladysdsandiego  | 231  | 1 | TheRock | 243.8833 | NA | 52 |\n",
       "| 1258 | 38330186  | personunknown   | 125  | 1 | TheRock | 248.8167 | NA | 52 |\n",
       "| 1259 | 553751422 | devontesexsyboy | 1    | 1 | TheRock | 248.9667 | NA | 52 |\n",
       "| 1260 | 111830735 | beekay_5        | 76   | 1 | TheRock | 250.2833 | NA | 52 |\n",
       "\n"
      ],
      "text/plain": [
       "     RetweetCount UserId    ScreenName      FollowerCount DistanceFromRoot\n",
       "1     0           158426909 Lawrence        87039         0               \n",
       "2     2           377745103 EleanorWhitel   444           1               \n",
       "3     4           61341105  theblkpanther52 235           1               \n",
       "4     6           126269760 ScottBaglee     52            1               \n",
       "5     8           16730860  dgershwin       415           1               \n",
       "6    10           325210048 4JDJD           7             1               \n",
       "7    12           37338752  Konstantine116  38            1               \n",
       "8    14           103720918 Destinyuhv      512           1               \n",
       "9    16           493371884 Blake_Tindle    51            1               \n",
       "10   18           22300902  NeoRenfield     2559          1               \n",
       "11   20           37725640  TalkinToU       2030          1               \n",
       "12    0           164412502 pbsgwen         23673         0               \n",
       "13    1           13367172  shani_o         2030          1               \n",
       "14    2           185747652 edenWXIA        928           1               \n",
       "15    3           21728303  keithboykin     8048          1               \n",
       "16    4           26589498  drugmonkeyblog  1987          1               \n",
       "17    5           499894426 neivet2         23            1               \n",
       "18    6           442649949 WillDarrell     22            1               \n",
       "19    7           477450920 AdamSmithereens 11            1               \n",
       "20    8           18397364  KyleYounger     592           1               \n",
       "21    9           309190582 JustCouch       306           1               \n",
       "22   10           33230785  gagolfmom       65            1               \n",
       "23   11           20828187  kingofva        138           1               \n",
       "24   12           14299153  paulwester      120           1               \n",
       "25   13           326255267 BuzzFeedAndrew  17292         1               \n",
       "26   14           7764332   _mikehayes      3195          2               \n",
       "27   15           196935951 blk_dahlia2     218           1               \n",
       "28   16           16868444  sevenlayercake  808           2               \n",
       "29   17           65655621  SKazViews       1657          1               \n",
       "30   18           38372321  lovelyallen     184           1               \n",
       "...  ...          ...       ...             ...           ...             \n",
       "8748 1231         106652486 ASOM_831        267           1               \n",
       "8749 1232         19406375  beardofprey     180           1               \n",
       "8750 1233         309763542 hrqueenmonique  34            1               \n",
       "8751 1234         368701712 wwegirlashley23 1             1               \n",
       "8752 1235         236207452 ofynnnnn        504           1               \n",
       "8753 1236         459683319 Caraxander      45            1               \n",
       "8754 1237         148515854 BestLookingSin  142           1               \n",
       "8755 1238         194185049 McCoolMFan4ever 3121          1               \n",
       "8756 1239         35498810  theuniquemusic  664           1               \n",
       "8757 1240         259542338 msymsick17      88            1               \n",
       "8758 1241         28855218  daVinci70       216           1               \n",
       "8759 1242         260450609 Emajay3         9             1               \n",
       "8760 1243         306225200 BigShannon79    115           1               \n",
       "8761 1244         204211334 1TheRockHHH     1005          1               \n",
       "8762 1245         255877163 neilski442      23            1               \n",
       "8763 1246         370289942 Fabinaustin     1             1               \n",
       "8764 1247         381703517 MzTejada        166           1               \n",
       "8765 1248         245064831 JoDaddy510      41            1               \n",
       "8766 1249         72851754  edribotha       458           1               \n",
       "8767 1250         553722803 Lolo__C         8             1               \n",
       "8768 1251         554328056 wweamit         66            1               \n",
       "8769 1252         486768042 ramonwwefan     6             1               \n",
       "8770 1253         527688254 AlexxxSanchezzz 4             1               \n",
       "8771 1254         552184141 AliciaOrtega18  7             1               \n",
       "8772 1255         194231484 Snuka7799       3             1               \n",
       "8773 1256         65230941  KingFrankk      99            1               \n",
       "8774 1257         250250870 ladysdsandiego  231           1               \n",
       "8775 1258         38330186  personunknown   125           1               \n",
       "8776 1259         553751422 devontesexsyboy 1             1               \n",
       "8777 1260         111830735 beekay_5        76            1               \n",
       "     ParentScreenName TimeDiff    response case\n",
       "1    Lawrence           0.0000000 20       1   \n",
       "2    Lawrence           0.5000000 NA       1   \n",
       "3    Lawrence           2.1833333 NA       1   \n",
       "4    Lawrence           2.8666667 NA       1   \n",
       "5    Lawrence          11.0833333 NA       1   \n",
       "6    Lawrence          21.1833333 NA       1   \n",
       "7    Lawrence          30.6333333 NA       1   \n",
       "8    Lawrence          40.7666667 NA       1   \n",
       "9    Lawrence          64.5333333 NA       1   \n",
       "10   Lawrence         144.8333333 NA       1   \n",
       "11   Lawrence         224.3000000 NA       1   \n",
       "12   pbsgwen            0.0000000 23       2   \n",
       "13   pbsgwen            0.2166667 NA       2   \n",
       "14   pbsgwen            0.6000000 NA       2   \n",
       "15   pbsgwen            1.4666667 NA       2   \n",
       "16   pbsgwen            2.6666667 NA       2   \n",
       "17   pbsgwen            3.2333333 NA       2   \n",
       "18   pbsgwen            3.3666667 NA       2   \n",
       "19   pbsgwen            3.6166667 NA       2   \n",
       "20   pbsgwen            4.6666667 NA       2   \n",
       "21   pbsgwen            5.7000000 NA       2   \n",
       "22   pbsgwen            6.2000000 NA       2   \n",
       "23   pbsgwen            7.2333333 NA       2   \n",
       "24   pbsgwen           15.3500000 NA       2   \n",
       "25   pbsgwen           18.4833333 NA       2   \n",
       "26   BuzzFeedAndrew    18.7500000 NA       2   \n",
       "27   pbsgwen           19.5000000 NA       2   \n",
       "28   BuzzFeedAndrew    21.0500000 NA       2   \n",
       "29   pbsgwen           23.3833333 NA       2   \n",
       "30   pbsgwen           26.2333333 NA       2   \n",
       "...  ...              ...         ...      ... \n",
       "8748 TheRock          202.7333    NA       52  \n",
       "8749 TheRock          202.8667    NA       52  \n",
       "8750 TheRock          209.1833    NA       52  \n",
       "8751 TheRock          210.2000    NA       52  \n",
       "8752 TheRock          211.9667    NA       52  \n",
       "8753 TheRock          212.3000    NA       52  \n",
       "8754 TheRock          213.9000    NA       52  \n",
       "8755 TheRock          214.7500    NA       52  \n",
       "8756 TheRock          215.9667    NA       52  \n",
       "8757 TheRock          216.0500    NA       52  \n",
       "8758 TheRock          216.1000    NA       52  \n",
       "8759 TheRock          221.7333    NA       52  \n",
       "8760 TheRock          224.5000    NA       52  \n",
       "8761 TheRock          225.0167    NA       52  \n",
       "8762 TheRock          225.4333    NA       52  \n",
       "8763 TheRock          225.7833    NA       52  \n",
       "8764 TheRock          227.5000    NA       52  \n",
       "8765 TheRock          227.8167    NA       52  \n",
       "8766 TheRock          230.5500    NA       52  \n",
       "8767 TheRock          233.7167    NA       52  \n",
       "8768 TheRock          237.4167    NA       52  \n",
       "8769 TheRock          239.4167    NA       52  \n",
       "8770 TheRock          240.0167    NA       52  \n",
       "8771 TheRock          240.4500    NA       52  \n",
       "8772 TheRock          242.4333    NA       52  \n",
       "8773 TheRock          243.6667    NA       52  \n",
       "8774 TheRock          243.8833    NA       52  \n",
       "8775 TheRock          248.8167    NA       52  \n",
       "8776 TheRock          248.9667    NA       52  \n",
       "8777 TheRock          250.2833    NA       52  "
      ]
     },
     "metadata": {},
     "output_type": "display_data"
    }
   ],
   "source": [
    "dataset "
   ]
  },
  {
   "cell_type": "code",
   "execution_count": 131,
   "id": "studied-savannah",
   "metadata": {},
   "outputs": [
    {
     "data": {
      "text/html": [
       "'#F50D16'"
      ],
      "text/latex": [
       "'\\#F50D16'"
      ],
      "text/markdown": [
       "'#F50D16'"
      ],
      "text/plain": [
       "[1] \"#F50D16\""
      ]
     },
     "metadata": {},
     "output_type": "display_data"
    }
   ],
   "source": [
    "dataset$color[1]"
   ]
  },
  {
   "cell_type": "code",
   "execution_count": 49,
   "id": "liable-honolulu",
   "metadata": {},
   "outputs": [
    {
     "data": {
      "text/html": [
       "'13 Apr 2012 00:45:12 +0000'"
      ],
      "text/latex": [
       "'13 Apr 2012 00:45:12 +0000'"
      ],
      "text/markdown": [
       "'13 Apr 2012 00:45:12 +0000'"
      ],
      "text/plain": [
       "[1] \"13 Apr 2012 00:45:12 +0000\""
      ]
     },
     "metadata": {},
     "output_type": "display_data"
    }
   ],
   "source": [
    "t[1]"
   ]
  },
  {
   "cell_type": "code",
   "execution_count": 59,
   "id": "domestic-nowhere",
   "metadata": {},
   "outputs": [],
   "source": [
    "tt2 = as.POSIXct(t,format='%d %b %Y %H:%M:%S')"
   ]
  },
  {
   "cell_type": "code",
   "execution_count": 75,
   "id": "normal-honduras",
   "metadata": {},
   "outputs": [
    {
     "data": {
      "text/html": [
       "224.3"
      ],
      "text/latex": [
       "224.3"
      ],
      "text/markdown": [
       "224.3"
      ],
      "text/plain": [
       "[1] 224.3"
      ]
     },
     "metadata": {},
     "output_type": "display_data"
    }
   ],
   "source": [
    "as.numeric(difftime(tt2[11] , tt2[1],units = 'mins')) "
   ]
  },
  {
   "cell_type": "code",
   "execution_count": 77,
   "id": "thrown-advocate",
   "metadata": {},
   "outputs": [],
   "source": [
    "\n"
   ]
  },
  {
   "cell_type": "code",
   "execution_count": 79,
   "id": "literary-directive",
   "metadata": {},
   "outputs": [],
   "source": []
  },
  {
   "cell_type": "code",
   "execution_count": 135,
   "id": "ultimate-biotechnology",
   "metadata": {},
   "outputs": [
    {
     "data": {
      "text/html": [
       "<style>\n",
       ".list-inline {list-style: none; margin:0; padding: 0}\n",
       ".list-inline>li {display: inline-block}\n",
       ".list-inline>li:not(:last-child)::after {content: \"\\00b7\"; padding: 0 .5ex}\n",
       "</style>\n",
       "<ol class=list-inline><li>'#00FF19'</li><li>'#00FF99'</li><li>'#00E6FF'</li><li>'#0066FF'</li></ol>\n"
      ],
      "text/latex": [
       "\\begin{enumerate*}\n",
       "\\item '\\#00FF19'\n",
       "\\item '\\#00FF99'\n",
       "\\item '\\#00E6FF'\n",
       "\\item '\\#0066FF'\n",
       "\\end{enumerate*}\n"
      ],
      "text/markdown": [
       "1. '#00FF19'\n",
       "2. '#00FF99'\n",
       "3. '#00E6FF'\n",
       "4. '#0066FF'\n",
       "\n",
       "\n"
      ],
      "text/plain": [
       "[1] \"#00FF19\" \"#00FF99\" \"#00E6FF\" \"#0066FF\""
      ]
     },
     "metadata": {},
     "output_type": "display_data"
    }
   ],
   "source": [
    "rainbow(4, start = 0.35, end = 0.6)"
   ]
  },
  {
   "cell_type": "code",
   "execution_count": 136,
   "id": "tamil-ozone",
   "metadata": {},
   "outputs": [
    {
     "ename": "ERROR",
     "evalue": "Error in eval(expr, envir, enclos): object 'z' not found\n",
     "output_type": "error",
     "traceback": [
      "Error in eval(expr, envir, enclos): object 'z' not found\nTraceback:\n"
     ]
    }
   ],
   "source": [
    " rainbow(4, start = 0, end = 0.25)[z]"
   ]
  },
  {
   "cell_type": "code",
   "execution_count": null,
   "id": "excited-history",
   "metadata": {},
   "outputs": [],
   "source": []
  }
 ],
 "metadata": {
  "kernelspec": {
   "display_name": "R",
   "language": "R",
   "name": "ir"
  },
  "language_info": {
   "codemirror_mode": "r",
   "file_extension": ".r",
   "mimetype": "text/x-r-source",
   "name": "R",
   "pygments_lexer": "r",
   "version": "4.0.4"
  }
 },
 "nbformat": 4,
 "nbformat_minor": 5
}
